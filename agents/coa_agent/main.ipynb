{
 "cells": [
  {
   "cell_type": "code",
   "execution_count": 1,
   "metadata": {},
   "outputs": [],
   "source": [
    "import re\n",
    "from typing import Tuple\n",
    "from llama_index.core.workflow import Event\n",
    "from typing import List, Dict\n",
    "from llama_index.core.workflow import (\n",
    "    Context,\n",
    "    Workflow,\n",
    "    StartEvent,\n",
    "    StopEvent,\n",
    "    Event,\n",
    "    step,\n",
    ")"
   ]
  },
  {
   "cell_type": "code",
   "execution_count": 2,
   "metadata": {},
   "outputs": [],
   "source": [
    "solution = \"\"\" \n",
    "First, compute the sum of 3 and 4, resulting in [FUNC add(3, 4) = y1]. \n",
    "Next, multiply the result by 4, resulting in [FUNC multiply(y1, 4) = y2]. \n",
    "Finally, subtract 8 from the result, resulting in [FUNC add(y2, -8) = y3].\n",
    "\"\"\""
   ]
  },
  {
   "cell_type": "code",
   "execution_count": 3,
   "metadata": {},
   "outputs": [],
   "source": [
    "func_calls = re.findall(r\"\\[FUNC (\\w+)\\((.*?)\\) = (\\w+)\\]\", solution)\n",
    "\n",
    "placeholders = set()\n",
    "for match in re.finditer(r\"\\[FUNC (\\w+)\\((.*?)\\) = (\\w+)\\]\", solution):\n",
    "    placeholders.add(match.group(3))"
   ]
  },
  {
   "cell_type": "code",
   "execution_count": 4,
   "metadata": {},
   "outputs": [
    {
     "data": {
      "text/plain": [
       "[('add', '3, 4', 'y1'), ('multiply', 'y1, 4', 'y2'), ('add', 'y2, -8', 'y3')]"
      ]
     },
     "execution_count": 4,
     "metadata": {},
     "output_type": "execute_result"
    }
   ],
   "source": [
    "func_calls"
   ]
  },
  {
   "cell_type": "code",
   "execution_count": 5,
   "metadata": {},
   "outputs": [
    {
     "data": {
      "text/plain": [
       "{'multiply': <llama_index.core.tools.function_tool.FunctionTool at 0x16a804390>,\n",
       " 'add': <llama_index.core.tools.function_tool.FunctionTool at 0x16ae8f110>,\n",
       " 'subtract': <llama_index.core.tools.function_tool.FunctionTool at 0x16ae8f9d0>,\n",
       " 'divide': <llama_index.core.tools.function_tool.FunctionTool at 0x16ae98310>}"
      ]
     },
     "execution_count": 5,
     "metadata": {},
     "output_type": "execute_result"
    }
   ],
   "source": [
    "from calculator_tool_spec import CalculatorToolSpec\n",
    "tools = CalculatorToolSpec().to_tool_list()\n",
    "tools_by_name = {tool.metadata.name: tool for tool in tools}\n",
    "tools_by_name"
   ]
  },
  {
   "cell_type": "code",
   "execution_count": 6,
   "metadata": {},
   "outputs": [
    {
     "data": {
      "text/plain": [
       "{'eval_expression': <llama_index.core.tools.function_tool.FunctionTool at 0x16ae20890>}"
      ]
     },
     "execution_count": 6,
     "metadata": {},
     "output_type": "execute_result"
    }
   ],
   "source": [
    "from arithmetic_validator_tool_spec import ArithmeticValidatorToolSpec\n",
    "tools = ArithmeticValidatorToolSpec().to_tool_list()\n",
    "validators = {tool.metadata.name: tool for tool in tools}\n",
    "validators"
   ]
  },
  {
   "cell_type": "code",
   "execution_count": 7,
   "metadata": {},
   "outputs": [
    {
     "data": {
      "text/plain": [
       "ToolOutput(content='7', tool_name='add', raw_input={'args': (3, 4), 'kwargs': {}}, raw_output=7, is_error=False)"
      ]
     },
     "execution_count": 7,
     "metadata": {},
     "output_type": "execute_result"
    }
   ],
   "source": [
    "raw_tool_output = await tools_by_name[\"add\"].acall(3, 4)\n",
    "raw_tool_output"
   ]
  },
  {
   "cell_type": "code",
   "execution_count": 8,
   "metadata": {},
   "outputs": [
    {
     "data": {
      "text/plain": [
       "{'y1': '7', 'y2': '28', 'y3': '20'}"
      ]
     },
     "execution_count": 8,
     "metadata": {},
     "output_type": "execute_result"
    }
   ],
   "source": [
    "results = {}\n",
    "\n",
    "for func_call in func_calls:\n",
    "    func_name, raw_inputs, output_placeholder = func_call\n",
    "    input_data = []\n",
    "    \n",
    "    for raw_input in raw_inputs.split(\",\"):\n",
    "        raw_input = raw_input.strip()\n",
    "        \n",
    "        try:\n",
    "            raw_input = results[raw_input] if raw_input in results else raw_input\n",
    "            input_data.append(int(raw_input))\n",
    "        \n",
    "        except ValueError as e:\n",
    "            print(\"Input string cannot be converted to integer\")\n",
    "            input_data.append(raw_input)\n",
    "            \n",
    "    tool_output = await tools_by_name[func_name].acall(*input_data)\n",
    "    \n",
    "    if output_placeholder not in results:\n",
    "        results[output_placeholder] = str(tool_output)\n",
    "\n",
    "results"
   ]
  },
  {
   "cell_type": "code",
   "execution_count": 9,
   "metadata": {},
   "outputs": [],
   "source": [
    "# events.py\n",
    "from llama_index.core.tools.types import AsyncBaseTool\n",
    "from llama_index.core.tools.function_tool import FunctionTool\n",
    "import json\n",
    "\n",
    "class FunctionCallEvent(Event):\n",
    "    # input_data: List[str]\n",
    "    func_call: Tuple[str, str, str]\n",
    "    validator: AsyncBaseTool\n",
    "    \n",
    "    \n",
    "class ValidateFunctionCall(Event):\n",
    "    validator: AsyncBaseTool"
   ]
  },
  {
   "cell_type": "code",
   "execution_count": 22,
   "metadata": {},
   "outputs": [],
   "source": [
    "class COAWorkFlow(Workflow):\n",
    "\n",
    "    @step(pass_context=True)\n",
    "    async def main_step(self, ctx: Context, ev: StartEvent) -> FunctionCallEvent:\n",
    "        \"\"\"Initialize the context and start processing function calls.\"\"\"\n",
    "        ctx.data[\"results\"] = {} \n",
    "        ctx.data[\"tools_by_name\"] = ev.tools_by_name\n",
    "        ctx.data[\"function_calls\"] = ev.func_calls\n",
    "        ctx.data[\"validators\"] = ev.validators\n",
    "        \n",
    "        validator = ctx.data[\"validators\"][\"eval_expression\"]\n",
    "        first_func_call = ctx.data[\"function_calls\"][0]\n",
    "\n",
    "        return FunctionCallEvent(func_call=first_func_call, validator=validator)\n",
    "\n",
    "    @step(pass_context=True)\n",
    "    async def function_call_step(self, ctx: Context, ev: FunctionCallEvent) -> StopEvent:\n",
    "        \"\"\"Execute function call\"\"\"\n",
    "        func_name, raw_inputs, output_placeholder = ev.func_call\n",
    "        tools_by_name = ctx.data[\"tools_by_name\"]\n",
    "        results = ctx.data[\"results\"]\n",
    "        \n",
    "        input_data = []\n",
    "        \n",
    "        for raw_input in raw_inputs.split(\",\"):\n",
    "            raw_input = raw_input.strip()\n",
    "            \n",
    "            try:\n",
    "                raw_input = results[raw_input] if raw_input in results else raw_input\n",
    "                input_data.append(int(raw_input))\n",
    "            \n",
    "            except ValueError:\n",
    "                print(\"Input string cannot be converted to integer\")\n",
    "                input_data.append(raw_input)\n",
    "        \n",
    "        tool_output = await tools_by_name[func_name].acall(*input_data)\n",
    "        \n",
    "        if output_placeholder not in results:\n",
    "            results[output_placeholder] = str(tool_output)\n",
    "            \n",
    "        input_data.append(func_name)\n",
    "        print(input_data)\n",
    "        \n",
    "        if ev.validator is not None:\n",
    "            validator = ev.validator\n",
    "            validator_output = await validator.acall(*input_data)\n",
    "            \n",
    "            if validator_output == str(tool_output):\n",
    "                # return ValidationResult(validator_output) \n",
    "                pass\n",
    "\n",
    "        return StopEvent(f\"This is the result of the final function {results}\")\n"
   ]
  },
  {
   "cell_type": "code",
   "execution_count": 23,
   "metadata": {},
   "outputs": [
    {
     "name": "stdout",
     "output_type": "stream",
     "text": [
      "[3, 4, 'add']\n",
      "Validator Output:  7\n"
     ]
    },
    {
     "data": {
      "text/plain": [
       "\"This is the result of the first function {'y1': '7'}\""
      ]
     },
     "execution_count": 23,
     "metadata": {},
     "output_type": "execute_result"
    }
   ],
   "source": [
    "w = COAWorkFlow()\n",
    "await w.run(tools_by_name=tools_by_name, func_calls=func_calls, validators=validators )"
   ]
  },
  {
   "cell_type": "code",
   "execution_count": null,
   "metadata": {},
   "outputs": [],
   "source": []
  }
 ],
 "metadata": {
  "kernelspec": {
   "display_name": "eda-llama-index-VIX4Qo5C-py3.11",
   "language": "python",
   "name": "python3"
  },
  "language_info": {
   "codemirror_mode": {
    "name": "ipython",
    "version": 3
   },
   "file_extension": ".py",
   "mimetype": "text/x-python",
   "name": "python",
   "nbconvert_exporter": "python",
   "pygments_lexer": "ipython3",
   "version": "3.11.3"
  },
  "orig_nbformat": 4,
  "vscode": {
   "interpreter": {
    "hash": "4c9fee63db1833b128f9e0fcc88438d876a8dd4a4e8fdc61bea76064c0a94131"
   }
  }
 },
 "nbformat": 4,
 "nbformat_minor": 2
}
