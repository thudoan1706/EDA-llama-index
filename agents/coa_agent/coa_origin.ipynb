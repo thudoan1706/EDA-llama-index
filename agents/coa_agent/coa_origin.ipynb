{
 "cells": [
  {
   "attachments": {},
   "cell_type": "markdown",
   "metadata": {},
   "source": [
    "# COA RUNDOWN"
   ]
  },
  {
   "cell_type": "code",
   "execution_count": 1,
   "metadata": {},
   "outputs": [],
   "source": [
    "\n",
    "import os\n",
    "\n",
    "os.environ[\"OPENAI_API_KEY\"] = \"\"\n",
    "\n",
    "import nest_asyncio\n",
    "\n",
    "nest_asyncio.apply()"
   ]
  },
  {
   "cell_type": "code",
   "execution_count": 2,
   "metadata": {},
   "outputs": [],
   "source": [
    "from llama_index.core import Settings\n",
    "from llama_index.embeddings.openai import OpenAIEmbedding\n",
    "from llama_index.llms.openai import OpenAI\n",
    "\n",
    "Settings.embed_model = OpenAIEmbedding(\n",
    "    model=\"text-embedding-3-small\", embed_batch_size=256\n",
    ")\n",
    "Settings.llm = OpenAI(model=\"gpt-4-turbo\", temperature=0.1)"
   ]
  },
  {
   "cell_type": "code",
   "execution_count": 3,
   "metadata": {},
   "outputs": [
    {
     "name": "stdout",
     "output_type": "stream",
     "text": [
      "--2024-08-20 17:47:23--  https://raw.githubusercontent.com/run-llama/llama_index/main/docs/docs/examples/data/10k/uber_2021.pdf\n",
      "Resolving raw.githubusercontent.com (raw.githubusercontent.com)... 185.199.108.133, 185.199.109.133, 185.199.110.133, ...\n",
      "Connecting to raw.githubusercontent.com (raw.githubusercontent.com)|185.199.108.133|:443... connected.\n",
      "HTTP request sent, awaiting response... 200 OK\n",
      "Length: 1880483 (1.8M) [application/octet-stream]\n",
      "Saving to: ‘data/10k/uber_2021.pdf’\n",
      "\n",
      "data/10k/uber_2021. 100%[===================>]   1.79M  --.-KB/s    in 0.04s   \n",
      "\n",
      "2024-08-20 17:47:23 (41.1 MB/s) - ‘data/10k/uber_2021.pdf’ saved [1880483/1880483]\n",
      "\n",
      "--2024-08-20 17:47:23--  https://raw.githubusercontent.com/run-llama/llama_index/main/docs/docs/examples/data/10k/lyft_2021.pdf\n",
      "Resolving raw.githubusercontent.com (raw.githubusercontent.com)... 185.199.108.133, 185.199.109.133, 185.199.110.133, ...\n",
      "Connecting to raw.githubusercontent.com (raw.githubusercontent.com)|185.199.108.133|:443... connected.\n",
      "HTTP request sent, awaiting response... 200 OK\n",
      "Length: 1440303 (1.4M) [application/octet-stream]\n",
      "Saving to: ‘data/10k/lyft_2021.pdf’\n",
      "\n",
      "data/10k/lyft_2021. 100%[===================>]   1.37M  --.-KB/s    in 0.04s   \n",
      "\n",
      "2024-08-20 17:47:23 (36.8 MB/s) - ‘data/10k/lyft_2021.pdf’ saved [1440303/1440303]\n",
      "\n"
     ]
    }
   ],
   "source": [
    "!mkdir -p 'data/10k/'\n",
    "!wget 'https://raw.githubusercontent.com/run-llama/llama_index/main/docs/docs/examples/data/10k/uber_2021.pdf' -O 'data/10k/uber_2021.pdf'\n",
    "!wget 'https://raw.githubusercontent.com/run-llama/llama_index/main/docs/docs/examples/data/10k/lyft_2021.pdf' -O 'data/10k/lyft_2021.pdf'"
   ]
  },
  {
   "cell_type": "code",
   "execution_count": 4,
   "metadata": {},
   "outputs": [],
   "source": [
    "from llama_index.core import StorageContext, load_index_from_storage\n",
    "\n",
    "try:\n",
    "    storage_context = StorageContext.from_defaults(\n",
    "        persist_dir=\"./storage/lyft\"\n",
    "    )\n",
    "    lyft_index = load_index_from_storage(storage_context)\n",
    "\n",
    "    storage_context = StorageContext.from_defaults(\n",
    "        persist_dir=\"./storage/uber\"\n",
    "    )\n",
    "    uber_index = load_index_from_storage(storage_context)\n",
    "\n",
    "    index_loaded = True\n",
    "except:\n",
    "    index_loaded = False"
   ]
  },
  {
   "cell_type": "code",
   "execution_count": 5,
   "metadata": {},
   "outputs": [],
   "source": [
    "from llama_parse import LlamaParse\n",
    "from llama_index.core import SimpleDirectoryReader, VectorStoreIndex\n",
    "\n",
    "# (OPTIONAL) -- Use LlamaParse for loading PDF documents\n",
    "file_extractor = {\n",
    "    \".pdf\": LlamaParse(\n",
    "        result_type=\"markdown\",\n",
    "        api_key=\"llx-...\",\n",
    "    )\n",
    "}\n",
    "\n",
    "if not index_loaded:\n",
    "    # load data\n",
    "    lyft_docs = SimpleDirectoryReader(\n",
    "        input_files=[\"./data/10k/lyft_2021.pdf\"],\n",
    "        # file_extractor=file_extractor,\n",
    "    ).load_data()\n",
    "    uber_docs = SimpleDirectoryReader(\n",
    "        input_files=[\"./data/10k/uber_2021.pdf\"],\n",
    "        # file_extractor=file_extractor,\n",
    "    ).load_data()\n",
    "\n",
    "    # build index\n",
    "    lyft_index = VectorStoreIndex.from_documents(lyft_docs)\n",
    "    uber_index = VectorStoreIndex.from_documents(uber_docs)\n",
    "\n",
    "    # persist index\n",
    "    lyft_index.storage_context.persist(persist_dir=\"./storage/lyft\")\n",
    "    uber_index.storage_context.persist(persist_dir=\"./storage/uber\")"
   ]
  },
  {
   "cell_type": "code",
   "execution_count": 6,
   "metadata": {},
   "outputs": [],
   "source": [
    "from llama_index.core.tools import QueryEngineTool\n",
    "\n",
    "lyft_engine = lyft_index.as_query_engine(similarity_top_k=2)\n",
    "uber_engine = uber_index.as_query_engine(similarity_top_k=2)\n",
    "\n",
    "query_engine_tools = [\n",
    "    QueryEngineTool.from_defaults(\n",
    "        query_engine=lyft_engine,\n",
    "        name=\"lyft_10k\",\n",
    "        description=(\n",
    "            \"Provides information about Lyft financials for year 2021. \"\n",
    "            \"Use a detailed plain text question as input to the tool.\"\n",
    "        ),\n",
    "    ),\n",
    "    QueryEngineTool.from_defaults(\n",
    "        query_engine=uber_engine,\n",
    "        name=\"uber_10k\",\n",
    "        description=(\n",
    "            \"Provides information about Uber financials for year 2021. \"\n",
    "            \"Use a detailed plain text question as input to the tool.\"\n",
    "        ),\n",
    "    ),\n",
    "]"
   ]
  },
  {
   "cell_type": "code",
   "execution_count": 11,
   "metadata": {},
   "outputs": [],
   "source": [
    "# needs llama_index-packs-agents-coa\n",
    "from llama_index.packs.agents_coa import CoAAgentPack\n",
    "\n",
    "pack = CoAAgentPack(tools=query_engine_tools, llm=Settings.llm)"
   ]
  },
  {
   "cell_type": "code",
   "execution_count": 12,
   "metadata": {},
   "outputs": [
    {
     "name": "stdout",
     "output_type": "stream",
     "text": [
      "==== Available Parsed Functions ====\n",
      "def lyft_10k(input: string):\n",
      "   \"\"\"Provides information about Lyft financials for year 2021. Use a detailed plain text question as input to the tool.\"\"\"\n",
      "    ...\n",
      "def uber_10k(input: string):\n",
      "   \"\"\"Provides information about Uber financials for year 2021. Use a detailed plain text question as input to the tool.\"\"\"\n",
      "    ...\n",
      "==== Generated Chain of Abstraction ====\n",
      "To compare Uber's revenue growth to Lyft's in 2021, we need to obtain the revenue growth figures for both companies for that year.\n",
      "\n",
      "1. Retrieve Uber's revenue growth for 2021 by querying the Uber financial tool with a specific question about revenue growth:\n",
      "   [FUNC uber_10k(\"What was Uber's revenue growth in 2021?\") = y1]\n",
      "\n",
      "2. Retrieve Lyft's revenue growth for 2021 by querying the Lyft financial tool with a similar question:\n",
      "   [FUNC lyft_10k(\"What was Lyft's revenue growth in 2021?\") = y2]\n",
      "\n",
      "3. Compare the outputs y1 and y2 to determine which company had higher revenue growth in 2021. This comparison will be based on the values returned from the function calls, and the final response will be formulated accordingly.\n",
      "==== Executing uber_10k with inputs [\"What was Uber's revenue growth in 2021?\"] ====\n",
      "==== Executing lyft_10k with inputs [\"What was Lyft's revenue growth in 2021?\"] ====\n"
     ]
    }
   ],
   "source": [
    "response = pack.run(\"How did Ubers revenue growth compare to Lyfts in 2021?\")"
   ]
  },
  {
   "cell_type": "code",
   "execution_count": 13,
   "metadata": {},
   "outputs": [
    {
     "name": "stdout",
     "output_type": "stream",
     "text": [
      "In 2021, Uber's revenue growth was reported at 57%. To compare this with Lyft's growth, we calculate Lyft's percentage increase from their 2020 revenue of $2,364,681,000 to their 2021 revenue of $3,208,323,000. This calculation [(3,208,323,000 - 2,364,681,000) / 2,364,681,000 * 100] results in approximately a 35.7% increase in revenue for Lyft. Therefore, Uber's revenue growth of 57% was higher than Lyft's growth of about 35.7% in 2021.\n"
     ]
    }
   ],
   "source": [
    "print(str(response))"
   ]
  },
  {
   "attachments": {},
   "cell_type": "markdown",
   "metadata": {},
   "source": [
    "# COA Breakdown"
   ]
  },
  {
   "cell_type": "code",
   "execution_count": 54,
   "metadata": {},
   "outputs": [],
   "source": [
    "import re\n",
    "from collections import defaultdict\n",
    "from typing import Dict, Tuple\n",
    "import networkx as nx\n",
    "import json\n"
   ]
  },
  {
   "cell_type": "code",
   "execution_count": 55,
   "metadata": {},
   "outputs": [],
   "source": [
    "reasoning_plans = \"\"\"To compare Uber's revenue growth to Lyft's in 2021, we need to obtain the revenue growth figures for both companies for that year.\n",
    "\n",
    "1. Retrieve Uber's revenue growth for 2021 by querying the Uber financial tool with a specific question about revenue growth:\n",
    "   - [FUNC uber_10k(\"What was Uber's revenue growth in 2021?\") = y1]\n",
    "\n",
    "2. Retrieve Lyft's revenue growth for 2021 by querying the Lyft financial tool with a similar question about revenue growth:\n",
    "   - [FUNC lyft_10k(\"What was Lyft's revenue growth in 2021?\") = y2]\n",
    "\n",
    "3. Compare the revenue growth figures obtained (y1 and y2) to determine which company had higher growth in 2021. This comparison will be done by the reader after the function calls have been executed.\"\"\""
   ]
  },
  {
   "cell_type": "code",
   "execution_count": 56,
   "metadata": {},
   "outputs": [
    {
     "name": "stdout",
     "output_type": "stream",
     "text": [
      "{'y1', 'y2'}\n"
     ]
    }
   ],
   "source": [
    "placeholders = set()\n",
    "for match in re.finditer(r\"\\[FUNC (\\w+)\\((.*?)\\) = (\\w+)\\]\", reasoning_plans):\n",
    "    placeholders.add(match.group(3))\n",
    "\n",
    "print(placeholders)"
   ]
  },
  {
   "cell_type": "code",
   "execution_count": 57,
   "metadata": {},
   "outputs": [
    {
     "name": "stdout",
     "output_type": "stream",
     "text": [
      "[('uber_10k', '\"What was Uber\\'s revenue growth in 2021?\"', 'y1'), ('lyft_10k', '\"What was Lyft\\'s revenue growth in 2021?\"', 'y2')]\n"
     ]
    }
   ],
   "source": [
    "func_calls = re.findall(r\"\\[FUNC (\\w+)\\((.*?)\\) = (\\w+)\\]\", reasoning_plans)\n",
    "print(func_calls)"
   ]
  },
  {
   "cell_type": "code",
   "execution_count": 58,
   "metadata": {},
   "outputs": [],
   "source": [
    "graph = []\n",
    "for func_name, inputs, output in func_calls:\n",
    "    inputs = json.loads(\"[\" + inputs + \"]\")\n",
    "    graph.append((output, func_name, inputs))\n",
    "    # graph.add_node(output, func_name=func_name, inputs=inputs)\n",
    "    for inp in inputs:\n",
    "        graph.append((inp, output))\n",
    "        # graph.add_edge(inp, output)"
   ]
  },
  {
   "cell_type": "code",
   "execution_count": 59,
   "metadata": {},
   "outputs": [
    {
     "data": {
      "text/plain": [
       "[('y1', 'uber_10k', [\"What was Uber's revenue growth in 2021?\"]),\n",
       " (\"What was Uber's revenue growth in 2021?\", 'y1'),\n",
       " ('y2', 'lyft_10k', [\"What was Lyft's revenue growth in 2021?\"]),\n",
       " (\"What was Lyft's revenue growth in 2021?\", 'y2')]"
      ]
     },
     "execution_count": 59,
     "metadata": {},
     "output_type": "execute_result"
    }
   ],
   "source": [
    "graph"
   ]
  },
  {
   "cell_type": "code",
   "execution_count": 60,
   "metadata": {},
   "outputs": [],
   "source": [
    "# Create a dependency graph\n",
    "graph = nx.DiGraph()\n",
    "for func_name, inputs, output in func_calls:\n",
    "    inputs = json.loads(\"[\" + inputs + \"]\")\n",
    "    graph.add_node(output, func_name=func_name, inputs=inputs)\n",
    "    for inp in inputs:\n",
    "        graph.add_edge(inp, output)"
   ]
  },
  {
   "cell_type": "code",
   "execution_count": 61,
   "metadata": {},
   "outputs": [],
   "source": [
    "\n",
    "# Find the execution levels\n",
    "execution_levels = defaultdict(list)\n",
    "for node in nx.topological_sort(graph):\n",
    "    level = (\n",
    "        max(\n",
    "            [execution_levels[pred] for pred in graph.predecessors(node)],\n",
    "            default=-1,\n",
    "        )\n",
    "        + 1\n",
    "    )\n",
    "    execution_levels[node] = level"
   ]
  },
  {
   "cell_type": "code",
   "execution_count": 62,
   "metadata": {},
   "outputs": [
    {
     "data": {
      "text/plain": [
       "defaultdict(list,\n",
       "            {\"What was Uber's revenue growth in 2021?\": 0,\n",
       "             \"What was Lyft's revenue growth in 2021?\": 0,\n",
       "             'y1': 1,\n",
       "             'y2': 1})"
      ]
     },
     "execution_count": 62,
     "metadata": {},
     "output_type": "execute_result"
    }
   ],
   "source": [
    "execution_levels"
   ]
  },
  {
   "cell_type": "code",
   "execution_count": null,
   "metadata": {},
   "outputs": [],
   "source": []
  }
 ],
 "metadata": {
  "kernelspec": {
   "display_name": "eda-llama-index-VIX4Qo5C-py3.11",
   "language": "python",
   "name": "python3"
  },
  "language_info": {
   "codemirror_mode": {
    "name": "ipython",
    "version": 3
   },
   "file_extension": ".py",
   "mimetype": "text/x-python",
   "name": "python",
   "nbconvert_exporter": "python",
   "pygments_lexer": "ipython3",
   "version": "3.11.3"
  },
  "orig_nbformat": 4,
  "vscode": {
   "interpreter": {
    "hash": "4c9fee63db1833b128f9e0fcc88438d876a8dd4a4e8fdc61bea76064c0a94131"
   }
  }
 },
 "nbformat": 4,
 "nbformat_minor": 2
}
