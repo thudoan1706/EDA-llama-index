{
 "cells": [
  {
   "cell_type": "code",
   "execution_count": 1,
   "metadata": {},
   "outputs": [],
   "source": [
    "import re\n",
    "from typing import Tuple, Any, List\n",
    "from llama_index.core.workflow import Event\n",
    "from llama_index.core.workflow import (\n",
    "    Context,\n",
    "    Workflow,\n",
    "    StartEvent,\n",
    "    StopEvent,\n",
    "    Event,\n",
    "    step,\n",
    ")"
   ]
  },
  {
   "attachments": {},
   "cell_type": "markdown",
   "metadata": {},
   "source": [
    "## Note:\n",
    "\n",
    "So far, the workflow works with the function like calculation. What about dynamic text inputs?"
   ]
  },
  {
   "cell_type": "code",
   "execution_count": 2,
   "metadata": {},
   "outputs": [],
   "source": [
    "solution = \"\"\" \n",
    "First, compute the sum of 3 and 4, resulting in [FUNC add(3, 4) = y1]. \n",
    "Next, multiply the result by 4, resulting in [FUNC multiply(y1, 4) = y2]. \n",
    "Finally, subtract 8 from the result, resulting in [FUNC add(y2, -8) = y3].\n",
    "\"\"\""
   ]
  },
  {
   "cell_type": "code",
   "execution_count": 15,
   "metadata": {},
   "outputs": [],
   "source": [
    "func_calls = re.findall(r\"\\[FUNC (\\w+)\\((.*?)\\) = (\\w+)\\]\", solution)\n",
    "\n",
    "placeholders = set()\n",
    "for match in re.finditer(r\"\\[FUNC (\\w+)\\((.*?)\\) = (\\w+)\\]\", solution):\n",
    "    placeholders.add(match.group(3))"
   ]
  },
  {
   "cell_type": "code",
   "execution_count": 16,
   "metadata": {},
   "outputs": [
    {
     "data": {
      "text/plain": [
       "[('add', '3, 4', 'y1'), ('multiply', 'y1, 4', 'y2'), ('add', 'y2, -8', 'y3')]"
      ]
     },
     "execution_count": 16,
     "metadata": {},
     "output_type": "execute_result"
    }
   ],
   "source": [
    "func_calls"
   ]
  },
  {
   "cell_type": "code",
   "execution_count": 17,
   "metadata": {},
   "outputs": [
    {
     "data": {
      "text/plain": [
       "{'multiply': <llama_index.core.tools.function_tool.FunctionTool at 0x13faf0d90>,\n",
       " 'add': <llama_index.core.tools.function_tool.FunctionTool at 0x13faf0450>,\n",
       " 'subtract': <llama_index.core.tools.function_tool.FunctionTool at 0x13f49b4d0>,\n",
       " 'divide': <llama_index.core.tools.function_tool.FunctionTool at 0x13fc6cc90>}"
      ]
     },
     "execution_count": 17,
     "metadata": {},
     "output_type": "execute_result"
    }
   ],
   "source": [
    "from calculator_tool_spec import CalculatorToolSpec\n",
    "tools = CalculatorToolSpec().to_tool_list()\n",
    "tools_by_name = {tool.metadata.name: tool for tool in tools}\n",
    "tools_by_name"
   ]
  },
  {
   "cell_type": "code",
   "execution_count": 18,
   "metadata": {},
   "outputs": [
    {
     "data": {
      "text/plain": [
       "{'eval_expression': <llama_index.core.tools.function_tool.FunctionTool at 0x13fc6e450>}"
      ]
     },
     "execution_count": 18,
     "metadata": {},
     "output_type": "execute_result"
    }
   ],
   "source": [
    "from arithmetic_validator_tool_spec import ArithmeticValidatorToolSpec\n",
    "tools = ArithmeticValidatorToolSpec().to_tool_list()\n",
    "validators = {tool.metadata.name: tool for tool in tools}\n",
    "validators"
   ]
  },
  {
   "cell_type": "code",
   "execution_count": 19,
   "metadata": {},
   "outputs": [
    {
     "data": {
      "text/plain": [
       "ToolOutput(content='7', tool_name='add', raw_input={'args': (3, 4), 'kwargs': {}}, raw_output=7, is_error=False)"
      ]
     },
     "execution_count": 19,
     "metadata": {},
     "output_type": "execute_result"
    }
   ],
   "source": [
    "raw_tool_output = await tools_by_name[\"add\"].acall(3, 4)\n",
    "raw_tool_output"
   ]
  },
  {
   "cell_type": "code",
   "execution_count": 20,
   "metadata": {},
   "outputs": [
    {
     "data": {
      "text/plain": [
       "{'y1': '7', 'y2': '28', 'y3': '20'}"
      ]
     },
     "execution_count": 20,
     "metadata": {},
     "output_type": "execute_result"
    }
   ],
   "source": [
    "results = {}\n",
    "\n",
    "for func_call in func_calls:\n",
    "    func_name, raw_inputs, output_placeholder = func_call\n",
    "    input_data = []\n",
    "    \n",
    "    for raw_input in raw_inputs.split(\",\"):\n",
    "        raw_input = raw_input.strip()\n",
    "        \n",
    "        try:\n",
    "            raw_input = results[raw_input] if raw_input in results else raw_input\n",
    "            input_data.append(int(raw_input))\n",
    "        \n",
    "        except ValueError as e:\n",
    "            print(\"Input string cannot be converted to integer\")\n",
    "            input_data.append(raw_input)\n",
    "            \n",
    "    tool_output = await tools_by_name[func_name].acall(*input_data)\n",
    "    \n",
    "    if output_placeholder not in results:\n",
    "        results[output_placeholder] = str(tool_output)\n",
    "\n",
    "results"
   ]
  },
  {
   "cell_type": "code",
   "execution_count": 21,
   "metadata": {},
   "outputs": [],
   "source": [
    "# events.py\n",
    "from llama_index.core.tools.types import AsyncBaseTool\n",
    "from llama_index.core.tools.function_tool import FunctionTool\n",
    "import json\n",
    "\n",
    "class FunctionCallEvent(Event):\n",
    "    # input_data: List[str]\n",
    "    func_call: Tuple[str, str, str]\n",
    "    \n",
    "    \n",
    "class ValidateFunctionCall(Event):\n",
    "    validator: AsyncBaseTool\n",
    "    input_data: List[Any]\n",
    "    output_placeholder: str\n",
    "    tool_output: Any\n"
   ]
  },
  {
   "cell_type": "code",
   "execution_count": 22,
   "metadata": {},
   "outputs": [],
   "source": [
    "class COAWorkFlow(Workflow):\n",
    "\n",
    "    @step(pass_context=True)\n",
    "    async def main_step(self, ctx: Context, ev: StartEvent) -> FunctionCallEvent:\n",
    "        \"\"\"Initialize the context and start processing function calls.\"\"\"\n",
    "        ctx.data[\"results\"] = {} \n",
    "        ctx.data[\"tools_by_name\"] = ev.tools_by_name\n",
    "        ctx.data[\"function_calls\"] = ev.func_calls\n",
    "        ctx.data[\"validators\"] = ev.validators\n",
    "        ctx.data[\"iteration\"] = 0\n",
    "        \n",
    "        # Start with the first function call\n",
    "        first_func_call = ctx.data[\"function_calls\"][0]\n",
    "        return FunctionCallEvent(func_call=first_func_call)\n",
    "\n",
    "    @step(pass_context=True)\n",
    "    async def function_call_step(self, ctx: Context, ev: FunctionCallEvent) -> ValidateFunctionCall | StopEvent:\n",
    "        \"\"\"Execute function call\"\"\"\n",
    "        func_name, raw_inputs, output_placeholder = ev.func_call\n",
    "        tools_by_name = ctx.data[\"tools_by_name\"]\n",
    "        results = ctx.data[\"results\"]\n",
    "        \n",
    "        input_data = []\n",
    "        for raw_input in raw_inputs.split(\",\"):\n",
    "            raw_input = raw_input.strip()\n",
    "            \n",
    "            try:\n",
    "                raw_input = results[raw_input] if raw_input in results else raw_input\n",
    "                input_data.append(int(raw_input))\n",
    "            \n",
    "            except ValueError:\n",
    "                print(\"Input string cannot be converted to integer\")\n",
    "                input_data.append(raw_input)\n",
    "        \n",
    "        # Execute the tool function\n",
    "        try:\n",
    "            tool_output = await tools_by_name[func_name].acall(*input_data)\n",
    "            print(f\"Executed {func_name} with inputs {input_data} -> {output_placeholder}: {tool_output}\")\n",
    "        except Exception as e:\n",
    "            return StopEvent(f\"Error in {func_name} with inputs {input_data}: {e}\")\n",
    "        \n",
    "        input_data.append(func_name)\n",
    "        \n",
    "        validator = ctx.data[\"validators\"][\"eval_expression\"]\n",
    "            \n",
    "        if validator is not None:\n",
    "            return ValidateFunctionCall(validator=validator, tool_output=tool_output, input_data=input_data, output_placeholder=output_placeholder)\n",
    "\n",
    "        return StopEvent(f\"This is the result of the final function {results}\")\n",
    "    \n",
    "    @step(pass_context=True)\n",
    "    async def validate_function_step(self, ctx: Context, ev: ValidateFunctionCall) -> FunctionCallEvent | StopEvent:\n",
    "        \"\"\"Validate the function output and proceed based on the validation.\"\"\"\n",
    "        input_data = ev.input_data\n",
    "        tool_output = ev.tool_output\n",
    "        validator = ev.validator\n",
    "        output_placeholder = ev.output_placeholder\n",
    "        results = ctx.data[\"results\"]\n",
    "\n",
    "        # Execute the validation\n",
    "        try:\n",
    "            validator_output = await validator.acall(*input_data)\n",
    "            print(f\"Validation result: {validator_output} | Tool output: {tool_output}\")\n",
    "        except Exception as e:\n",
    "            return StopEvent(f\"Validation error: {e}\")\n",
    "\n",
    "        # Compare the validator's output with the tool's output\n",
    "        if str(validator_output) == str(tool_output):\n",
    "            results[output_placeholder] = str(tool_output)  # Cache the result\n",
    "            iteration = ctx.data[\"iteration\"]\n",
    "            function_calls = ctx.data[\"function_calls\"]\n",
    "\n",
    "            if iteration + 1 < len(function_calls):\n",
    "                next_func_call = function_calls[iteration + 1]\n",
    "                ctx.data[\"iteration\"] += 1\n",
    "                return FunctionCallEvent(func_call=next_func_call)\n",
    "\n",
    "            return StopEvent(f\"All function calls processed. Final results: {ctx.data['results']}\")\n",
    "        else:\n",
    "            return StopEvent(\"Tool output does not match the expected validation result\")"
   ]
  },
  {
   "cell_type": "code",
   "execution_count": 23,
   "metadata": {},
   "outputs": [
    {
     "name": "stdout",
     "output_type": "stream",
     "text": [
      "Executed add with inputs [3, 4] -> y1: 7\n",
      "Validation result: 7 | Tool output: 7\n",
      "Executed multiply with inputs [7, 4] -> y2: 28\n",
      "Validation result: 28 | Tool output: 28\n",
      "Executed add with inputs [28, -8] -> y3: 20\n",
      "Validation result: 20 | Tool output: 20\n"
     ]
    },
    {
     "data": {
      "text/plain": [
       "\"All function calls processed. Final results: {'y1': '7', 'y2': '28', 'y3': '20'}\""
      ]
     },
     "execution_count": 23,
     "metadata": {},
     "output_type": "execute_result"
    }
   ],
   "source": [
    "w = COAWorkFlow()\n",
    "await w.run(tools_by_name=tools_by_name, func_calls=func_calls, validators=validators )"
   ]
  },
  {
   "cell_type": "code",
   "execution_count": null,
   "metadata": {},
   "outputs": [],
   "source": []
  },
  {
   "cell_type": "code",
   "execution_count": null,
   "metadata": {},
   "outputs": [],
   "source": []
  }
 ],
 "metadata": {
  "kernelspec": {
   "display_name": "eda-llama-index-VIX4Qo5C-py3.11",
   "language": "python",
   "name": "python3"
  },
  "language_info": {
   "codemirror_mode": {
    "name": "ipython",
    "version": 3
   },
   "file_extension": ".py",
   "mimetype": "text/x-python",
   "name": "python",
   "nbconvert_exporter": "python",
   "pygments_lexer": "ipython3",
   "version": "3.11.3"
  },
  "orig_nbformat": 4,
  "vscode": {
   "interpreter": {
    "hash": "4c9fee63db1833b128f9e0fcc88438d876a8dd4a4e8fdc61bea76064c0a94131"
   }
  }
 },
 "nbformat": 4,
 "nbformat_minor": 2
}
