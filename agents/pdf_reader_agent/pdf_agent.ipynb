{
 "cells": [
  {
   "cell_type": "code",
   "execution_count": 20,
   "metadata": {},
   "outputs": [],
   "source": [
    "\n",
    "from llama_index.core.workflow import (\n",
    "    Context,\n",
    "    Workflow,\n",
    "    StartEvent,\n",
    "    StopEvent,\n",
    "    Event,\n",
    "    step,\n",
    ")\n",
    "from llama_index.llms.openai import OpenAI\n",
    "from utils.pdf_processor import process_pdfs_in_directory"
   ]
  },
  {
   "cell_type": "code",
   "execution_count": 21,
   "metadata": {},
   "outputs": [],
   "source": [
    "from typing import Optional\n",
    "class InitializeEvent(Event):\n",
    "    pass\n",
    "\n",
    "class ConciergeEvent(Event):\n",
    "    request: Optional[str]\n",
    "    just_completed: Optional[str]\n",
    "    need_help: Optional[bool]\n",
    "\n",
    "class PDFIngestionEvent(Event):\n",
    "    dirname: str"
   ]
  },
  {
   "cell_type": "code",
   "execution_count": 22,
   "metadata": {},
   "outputs": [],
   "source": [
    "from vector_store.pinecone.client import PineconeClient\n",
    "\n",
    "class PdfAgentWorkflow(Workflow):\n",
    "\n",
    "    @step(pass_context=True)\n",
    "    async def concierge(self, ctx: Context, ev: ConciergeEvent | StartEvent) -> InitializeEvent | StopEvent | None:\n",
    "    \n",
    "        if isinstance(ev, StartEvent):\n",
    "            dirname = ev.get(\"dirname\")\n",
    "            if dirname is not None:\n",
    "                ctx.data[\"dirname\"] = dirname\n",
    "                \n",
    "            return InitializeEvent()\n",
    "        \n",
    "        return StopEvent(result={\"index\": ctx.data[\"index\"]})\n",
    "    \n",
    "    @step(pass_context=True)\n",
    "    async def initialize(self, ctx: Context, ev: InitializeEvent) -> PDFIngestionEvent | ConciergeEvent:\n",
    "        # Check if \"dirname\" exists in ctx.data and is not None\n",
    "        if ctx.data.get(\"dirname\") is not None:\n",
    "            return PDFIngestionEvent(dirname=ctx.data[\"dirname\"])\n",
    "        \n",
    "        ctx.data[\"index\"] = PineconeClient(collection_name=\"pdf-docs\")\n",
    "        return ConciergeEvent()\n",
    "    \n",
    "    @step(pass_context=True)\n",
    "    async def ingest(self, ctx: Context, ev: PDFIngestionEvent) -> InitializeEvent | None:\n",
    "        \"\"\"Entry point to ingest a document, triggered by a StartEvent with `dirname`.\"\"\"\n",
    "        dirname = ctx.data.get(\"dirname\")\n",
    "        if dirname:\n",
    "            nodes = process_pdfs_in_directory(dirname)\n",
    "\n",
    "            client = PineconeClient(collection_name=\"pdf-docs\")\n",
    "            client.upsert_indices(nodes)\n",
    "            ctx.data[\"dirname\"] = None\n",
    "            return InitializeEvent()\n",
    "        return None\n"
   ]
  },
  {
   "cell_type": "code",
   "execution_count": 23,
   "metadata": {},
   "outputs": [
    {
     "name": "stderr",
     "output_type": "stream",
     "text": [
      "Upserted vectors: 100%|██████████| 194/194 [00:01<00:00, 140.07it/s]"
     ]
    },
    {
     "name": "stdout",
     "output_type": "stream",
     "text": [
      "{'index': <vector_store.pinecone.client.PineconeClient object at 0x16ad351d0>}\n"
     ]
    },
    {
     "name": "stderr",
     "output_type": "stream",
     "text": [
      "\n"
     ]
    }
   ],
   "source": [
    "workflow = PdfAgentWorkflow(timeout=180)\n",
    "result = await workflow.run(dirname=\"data\")\n",
    "print(str(result))"
   ]
  },
  {
   "cell_type": "code",
   "execution_count": 25,
   "metadata": {},
   "outputs": [
    {
     "name": "stdout",
     "output_type": "stream",
     "text": [
      "workflow_all.html\n",
      "workflow_recent.html\n"
     ]
    }
   ],
   "source": [
    "from llama_index.utils.workflow import (\n",
    "    draw_all_possible_flows,\n",
    "    draw_most_recent_execution,\n",
    ")\n",
    "\n",
    "# Draw all\n",
    "draw_all_possible_flows(PdfAgentWorkflow, filename=\"workflow_all.html\")\n",
    "draw_most_recent_execution(workflow, filename=\"workflow_recent.html\")\n",
    "\n",
    "# Draw an execution\n",
    "# w = PdfAgentWorkflow()\n",
    "# await w.run(topic=\"Pirates\")\n",
    "# draw_most_recent_execution(w, filename=\"joke_flow_recent.html\")"
   ]
  },
  {
   "cell_type": "markdown",
   "metadata": {},
   "source": []
  },
  {
   "cell_type": "code",
   "execution_count": 36,
   "metadata": {},
   "outputs": [],
   "source": [
    "# set Logging to DEBUG for more detailed outputs\n",
    "query_engine = result[\"index\"].index.as_query_engine()\n",
    "response = query_engine.query(\"how does Environmental difficulties at present are also challenging the sustainability of the Mediterranean way of living\")"
   ]
  },
  {
   "cell_type": "code",
   "execution_count": 37,
   "metadata": {},
   "outputs": [
    {
     "data": {
      "text/markdown": [
       "Environmental difficulties at present are challenging the sustainability of the Mediterranean way of living due to factors such as water scarcity, land degradation, and declining biodiversity. Water scarcity is a significant issue in Mediterranean-neighboring countries, driven by decreasing water availability and increasing water needs, particularly for agriculture. Land degradation is also a concern, caused by urbanization, waste pollution, soil erosion, and other factors, impacting food production. Global climate changes further exacerbate water scarcity, land degradation, and failures in crop, fisheries, and livestock production. Additionally, the decline in biodiversity and the shift towards monocultures and standardized cultivation practices negatively affect local food production in the Mediterranean regions."
      ],
      "text/plain": [
       "<IPython.core.display.Markdown object>"
      ]
     },
     "metadata": {},
     "output_type": "display_data"
    }
   ],
   "source": [
    "from IPython.display import Markdown, display\n",
    "\n",
    "display(Markdown(f\"{response}\"))"
   ]
  },
  {
   "cell_type": "code",
   "execution_count": null,
   "metadata": {},
   "outputs": [],
   "source": []
  },
  {
   "cell_type": "code",
   "execution_count": null,
   "metadata": {},
   "outputs": [],
   "source": []
  }
 ],
 "metadata": {
  "kernelspec": {
   "display_name": "eda-llama-index-VIX4Qo5C-py3.11",
   "language": "python",
   "name": "python3"
  },
  "language_info": {
   "codemirror_mode": {
    "name": "ipython",
    "version": 3
   },
   "file_extension": ".py",
   "mimetype": "text/x-python",
   "name": "python",
   "nbconvert_exporter": "python",
   "pygments_lexer": "ipython3",
   "version": "3.11.3"
  },
  "orig_nbformat": 4,
  "vscode": {
   "interpreter": {
    "hash": "4c9fee63db1833b128f9e0fcc88438d876a8dd4a4e8fdc61bea76064c0a94131"
   }
  }
 },
 "nbformat": 4,
 "nbformat_minor": 2
}
