{
 "cells": [
  {
   "cell_type": "code",
   "execution_count": 3,
   "metadata": {},
   "outputs": [],
   "source": [
    "from ingestion.vector_store.pinecone.client import PineconeClient\n",
    "from llama_index.core.workflow import (\n",
    "    Context,\n",
    "    Workflow,\n",
    "    StartEvent,\n",
    "    StopEvent,\n",
    "    Event,\n",
    "    step,\n",
    ")\n",
    "import asyncio\n",
    "from ingestion.utils.pdf_processor import process_pdfs_in_directory\n",
    "from event import InitializeEvent, PDFIngestionEvent, ConciergeEvent\n",
    "from ingestion.vector_store.pinecone.client import PineconeClient\n",
    "\n",
    "\n",
    "class ConciergeWorkflow(Workflow):\n",
    "    @step(pass_context=True)\n",
    "    async def concierge(self, ctx: Context, ev: ConciergeEvent | StartEvent) -> InitializeEvent | StopEvent | None:\n",
    "    \n",
    "        if isinstance(ev, StartEvent):\n",
    "            dirname = ev.get(\"dirname\")\n",
    "            if dirname is not None:\n",
    "                ctx.data[\"dirname\"] = dirname\n",
    "                \n",
    "            return InitializeEvent()\n",
    "        \n",
    "        return StopEvent(result={\"index\": ctx.data[\"index\"]})\n",
    "    \n",
    "    @step(pass_context=True)\n",
    "    async def initialize(self, ctx: Context, ev: InitializeEvent) -> PDFIngestionEvent | ConciergeEvent:\n",
    "        # Check if \"dirname\" exists in ctx.data and is not None\n",
    "        if ctx.data.get(\"dirname\") is not None:\n",
    "            return PDFIngestionEvent(dirname=ctx.data[\"dirname\"])\n",
    "        \n",
    "        ctx.data[\"index\"] = PineconeClient(collection_name=\"pdf-docs\")\n",
    "        return ConciergeEvent()\n",
    "    \n",
    "    @step(pass_context=True)\n",
    "    async def ingest(self, ctx: Context, ev: PDFIngestionEvent) -> InitializeEvent | None:\n",
    "        \"\"\"Entry point to ingest a document, triggered by a StartEvent with `dirname`.\"\"\"\n",
    "        dirname = ctx.data.get(\"dirname\")\n",
    "        if dirname:\n",
    "            nodes = process_pdfs_in_directory(dirname)\n",
    "\n",
    "            client = PineconeClient(collection_name=\"pdf-docs\")\n",
    "            client.upsert_indices(nodes)\n",
    "            ctx.data[\"dirname\"] = None\n",
    "            return InitializeEvent()\n",
    "        return None"
   ]
  },
  {
   "cell_type": "code",
   "execution_count": 4,
   "metadata": {},
   "outputs": [
    {
     "name": "stdout",
     "output_type": "stream",
     "text": [
      "Running step concierge\n",
      "Step concierge produced event InitializeEvent\n",
      "Running step initialize\n",
      "Step initialize produced event ConciergeEvent\n",
      "Running step concierge\n",
      "Step concierge produced event StopEvent\n",
      "{'index': <ingestion.vector_store.pinecone.client.PineconeClient object at 0x1074d4510>}\n"
     ]
    }
   ],
   "source": [
    "concierge = ConciergeWorkflow(timeout=180, verbose=True)\n",
    "result = await concierge.run()\n",
    "print(str(result))"
   ]
  },
  {
   "cell_type": "markdown",
   "metadata": {},
   "source": []
  },
  {
   "cell_type": "code",
   "execution_count": 5,
   "metadata": {},
   "outputs": [],
   "source": [
    "# set Logging to DEBUG for more detailed outputs\n",
    "query_engine = result[\"index\"].index.as_query_engine()\n",
    "response = query_engine.query(\"how does Environmental difficulties at present are also challenging the sustainability of the Mediterranean way of living\")"
   ]
  },
  {
   "cell_type": "code",
   "execution_count": 6,
   "metadata": {},
   "outputs": [
    {
     "data": {
      "text/markdown": [
       "Environmental difficulties at present are challenging the sustainability of the Mediterranean way of living due to factors such as water scarcity, land degradation, and declining biodiversity. Water scarcity is a significant issue in Mediterranean-neighboring countries, driven by decreasing water availability and increasing water needs, particularly for agriculture. Land degradation is also a concern, caused by urbanization, pollution, erosion, and other factors, impacting food production. Additionally, global climate changes are leading to water scarcity, land degradation, and crop failures. The decline in biodiversity and the shift towards monocultures further threaten local food production in the Mediterranean regions."
      ],
      "text/plain": [
       "<IPython.core.display.Markdown object>"
      ]
     },
     "metadata": {},
     "output_type": "display_data"
    }
   ],
   "source": [
    "from IPython.display import Markdown, display\n",
    "\n",
    "display(Markdown(f\"{response}\"))"
   ]
  },
  {
   "cell_type": "code",
   "execution_count": null,
   "metadata": {},
   "outputs": [],
   "source": []
  },
  {
   "cell_type": "code",
   "execution_count": null,
   "metadata": {},
   "outputs": [],
   "source": []
  }
 ],
 "metadata": {
  "kernelspec": {
   "display_name": "eda-llama-index-VIX4Qo5C-py3.11",
   "language": "python",
   "name": "python3"
  },
  "language_info": {
   "codemirror_mode": {
    "name": "ipython",
    "version": 3
   },
   "file_extension": ".py",
   "mimetype": "text/x-python",
   "name": "python",
   "nbconvert_exporter": "python",
   "pygments_lexer": "ipython3",
   "version": "3.11.3"
  },
  "orig_nbformat": 4,
  "vscode": {
   "interpreter": {
    "hash": "4c9fee63db1833b128f9e0fcc88438d876a8dd4a4e8fdc61bea76064c0a94131"
   }
  }
 },
 "nbformat": 4,
 "nbformat_minor": 2
}
