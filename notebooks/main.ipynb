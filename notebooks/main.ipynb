{
 "cells": [
  {
   "cell_type": "code",
   "execution_count": 1,
   "metadata": {},
   "outputs": [
    {
     "name": "stderr",
     "output_type": "stream",
     "text": [
      "/Users/anhthu/Library/Caches/pypoetry/virtualenvs/eda-llama-index-VIX4Qo5C-py3.11/lib/python3.11/site-packages/pinecone/data/index.py:1: TqdmWarning: IProgress not found. Please update jupyter and ipywidgets. See https://ipywidgets.readthedocs.io/en/stable/user_install.html\n",
      "  from tqdm.autonotebook import tqdm\n"
     ]
    }
   ],
   "source": [
    "from typing import Optional\n",
    "from orchestrator.ingestion.vector_store.pinecone.client import PineconeClient\n",
    "from llama_index.core.workflow import (\n",
    "    Context,\n",
    "    Workflow,\n",
    "    StartEvent,\n",
    "    StopEvent,\n",
    "    \n",
    "    Event,\n",
    "    step,\n",
    ")\n",
    "from orchestrator.utils.pdf_processor import process_pdfs_in_directory\n"
   ]
  },
  {
   "cell_type": "code",
   "execution_count": 2,
   "metadata": {},
   "outputs": [],
   "source": [
    "# events.py\n",
    "class InitializeEvent(Event):\n",
    "    pass\n",
    "\n",
    "class ConciergeEvent(Event):\n",
    "    request: Optional[str]\n",
    "    just_completed: Optional[str]\n",
    "    need_help: Optional[bool]\n",
    "\n",
    "class OrchestratorEvent(Event):\n",
    "    request: Optional[str] = None\n",
    "\n",
    "class PDFIngestionEvent(Event):\n",
    "    request: Optional[str]\n",
    "    \n",
    "class QueryEvent(Event):\n",
    "    query: str\n",
    "\n",
    "class QueryResultEvent(Event):\n",
    "    result: str"
   ]
  },
  {
   "cell_type": "code",
   "execution_count": 3,
   "metadata": {},
   "outputs": [],
   "source": [
    "\n",
    "from llama_index.core.query_engine import CustomQueryEngine\n",
    "from llama_index.core.retrievers import BaseRetriever\n",
    "from llama_index.core import get_response_synthesizer\n",
    "from llama_index.core.response_synthesizers import BaseSynthesizer\n",
    "\n",
    "class RAGQueryEngine(CustomQueryEngine):\n",
    "    \"\"\"RAG Query Engine.\"\"\"\n",
    "\n",
    "    retriever: BaseRetriever\n",
    "    response_synthesizer: BaseSynthesizer\n",
    "\n",
    "    def custom_query(self, query_str: str):\n",
    "        nodes = self.retriever.retrieve(query_str)\n",
    "        response_obj = self.response_synthesizer.synthesize(query_str, nodes)\n",
    "        return response_obj"
   ]
  },
  {
   "cell_type": "code",
   "execution_count": 4,
   "metadata": {},
   "outputs": [],
   "source": [
    "class WorkflowSteps:\n",
    "    \n",
    "    @step(pass_context=True)\n",
    "    async def concierge(self, ctx: Context, ev: ConciergeEvent | StartEvent) -> InitializeEvent | OrchestratorEvent | None:\n",
    "        if isinstance(ev, StartEvent):\n",
    "            dirname = ev.get(\"dirname\")\n",
    "            if dirname is not None:\n",
    "                ctx.data[\"dirname\"] = dirname\n",
    "                return OrchestratorEvent(request=\"ingest\")  # Trigger the OrchestratorEvent for ingestion\n",
    "\n",
    "            return InitializeEvent()\n",
    "\n",
    "        # After initialization, direct to orchestrator for querying\n",
    "        return OrchestratorEvent(request=\"query\")\n",
    "\n",
    "    @step(pass_context=True)\n",
    "    async def initialize(self, ctx: Context, ev: InitializeEvent) -> OrchestratorEvent:\n",
    "        ctx.data[\"index\"] = PineconeClient(collection_name=\"pdf-docs\")\n",
    "        return OrchestratorEvent(request=\"query\")  # After initializing, direct to query\n",
    "\n",
    "    @step(pass_context=True)\n",
    "    async def orchestrator(self, ctx: Context, ev: OrchestratorEvent) -> QueryEvent | PDFIngestionEvent | StopEvent:\n",
    "        if ev.request == \"ingest\":\n",
    "            return PDFIngestionEvent(request=\"start_pdf_ingestion\")\n",
    "        \n",
    "        elif ev.request == \"query\":\n",
    "            return QueryEvent(query=\"how does Environmental difficulties at present are also challenging the sustainability?\")\n",
    "        \n",
    "        return StopEvent(result={\"message\": \"Orchestrator did not recognize the event\"})\n",
    "\n",
    "    @step(pass_context=True)\n",
    "    async def query_index(self, ctx: Context, ev: QueryEvent) -> StopEvent:\n",
    "        \n",
    "        \n",
    "        # query_engine = ctx.data[\"index\"].as_query_engine()\n",
    "        # response = query_engine.query(ev.query)\n",
    "        retriever = ctx.data[\"index\"].as_retriever()\n",
    "        synthesizer = get_response_synthesizer(response_mode=\"refine\")\n",
    "        query_engine = RAGQueryEngine(\n",
    "            retriever=retriever, response_synthesizer=synthesizer\n",
    "        )\n",
    "        response = query_engine.query(ev.query)\n",
    "\n",
    "        return StopEvent(result={\"query_result\": str(response), \"source_node\": response.source_nodes[0].get_content()})\n",
    "\n",
    "    @step(pass_context=True)\n",
    "    async def ingest(self, ctx: Context, ev: PDFIngestionEvent) -> InitializeEvent:\n",
    "        dirname = ctx.data.get(\"dirname\")\n",
    "        if dirname:\n",
    "            nodes = process_pdfs_in_directory(dirname)\n",
    "\n",
    "            client = PineconeClient(collection_name=\"pdf-docs\")\n",
    "            client.upsert_indices(nodes)\n",
    "            ctx.data[\"dirname\"] = None\n",
    "            return InitializeEvent()\n",
    "        return None"
   ]
  },
  {
   "cell_type": "code",
   "execution_count": 5,
   "metadata": {},
   "outputs": [],
   "source": [
    "class ConciergeWorkflow(Workflow):\n",
    "    \n",
    "    steps = WorkflowSteps()\n",
    "\n",
    "    @step(pass_context=True)\n",
    "    async def concierge(self, ctx: Context, ev: ConciergeEvent | StartEvent) -> InitializeEvent | OrchestratorEvent | None:\n",
    "        return await self.steps.concierge(ctx, ev)\n",
    "\n",
    "    @step(pass_context=True)\n",
    "    async def initialize(self, ctx: Context, ev: InitializeEvent) -> OrchestratorEvent:\n",
    "        return await self.steps.initialize(ctx, ev)\n",
    "\n",
    "    @step(pass_context=True)\n",
    "    async def orchestrator(self, ctx: Context, ev: OrchestratorEvent) -> ConciergeEvent | PDFIngestionEvent | QueryEvent | StopEvent:\n",
    "        return await self.steps.orchestrator(ctx, ev)\n",
    "\n",
    "    @step(pass_context=True)\n",
    "    async def ingest(self, ctx: Context, ev: PDFIngestionEvent) -> InitializeEvent:\n",
    "        return await self.steps.ingest(ctx, ev)\n",
    "    \n",
    "    @step(pass_context=True)\n",
    "    async def query_index(self, ctx: Context, ev: QueryEvent) -> StopEvent:\n",
    "        return await self.steps.query_index(ctx, ev)"
   ]
  },
  {
   "cell_type": "code",
   "execution_count": 6,
   "metadata": {},
   "outputs": [
    {
     "name": "stdout",
     "output_type": "stream",
     "text": [
      "concierge_flows.html\n",
      "Running step concierge\n",
      "Step concierge produced event InitializeEvent\n",
      "Running step initialize\n",
      "Step initialize produced event OrchestratorEvent\n",
      "Running step orchestrator\n",
      "Step orchestrator produced event QueryEvent\n",
      "Running step query_index\n",
      "len source nodes 2\n",
      "Int. J. Environ. Res. Public Health 2019, 16, 942 2 of 16 Coinage of the term “Mediterranean diet” and its breakthrough to the attention of the medical public were made possible by the work of Ancel Keys, an American scientist who was the first to notice the relationship between the low incidence of cardiovascular disease in some traditional Mediterranean communities and their specific dietary habits [4]. Ensuing research confirmed the benefits brought by Mediterranean-derived dietary interventions not only in the primary and secondary prevention of cardiovascular disease, but also in the therapeutic approach of obesity, type 2 diabetes, metabolic syndrome, cancer or neurodegenerative diseases [5,6]. In the moment when recognition of the health benefits associated with the Mediterranean diet has become universal, its paradoxical fate is that it is at risk of being extinguished in its homeland territories. Globalization, importation of Western habits, changes in lifestyle and the environment specific to modern civilization have brought a heavy toll on the traditional Mediterranean diet [7]. At the same time, when international guidelines include it among the recommended healthy dietary patterns [8], the United Nations Educational, Scientific and Cultural Organization (UNESCO) considers the Mediterranean diet an “Intangible Cultural Heritage of Urgent Safeguarding” [9]. Given this contradictory stand between universal medical recognition and cultural extinction, this paper aims to review the current information referring to the inception and development of the Mediterranean diet, the major medical evidence supporting its health benefits, and the challenges it must outrun in order to avoid erosion, to maintain survival and sustainability, and to serve public health with the best resources it can offer. 2. The Mediterranean Diet: An Environment-Driven Food Culture The term “Mediterranean diet” is used today to describe the traditional dietary habits of countries neighboring the Mediterranean Sea, mostly Greece and Southern Italy. Nevertheless, it should be understood as more than a strict reference to the preferences these populations exhibit in their daily food selection, since the original meaning of the word diaita in Greek does not refer to just food or eating choices, but to a certain “way of living” which corresponds better to the modern concept of “lifestyle” [7]. It is relatively difficult to pinpoint the beginnings of this diet, but it most probably developed along with populations living in the Mediterranean Basin ever since the dawn of civilization.\n",
      "Step query_index produced event StopEvent\n"
     ]
    }
   ],
   "source": [
    "# main.py\n",
    "\n",
    "from workflow import ConciergeWorkflow\n",
    "from llama_index.utils.workflow import draw_all_possible_flows\n",
    "\n",
    "draw_all_possible_flows(ConciergeWorkflow, filename=\"concierge_flows.html\")\n",
    "\n",
    "concierge = ConciergeWorkflow(timeout=180, verbose=True)\n",
    "result = await concierge.run()\n",
    "# query_engine = result[\"index\"].index.as_query_engine()\n",
    "# response = query_engine.query(\"how does Environmental difficulties at present are also challenging the sustainability of the Mediterranean way of living\")\n",
    "# print(str(result))\n",
    "# print(result[\"source_node\"])"
   ]
  },
  {
   "cell_type": "code",
   "execution_count": 7,
   "metadata": {},
   "outputs": [
    {
     "data": {
      "text/markdown": [
       "The Indo-Mediterranean diet is a dietary approach that combines elements of the traditional Mediterranean diet with foods commonly consumed in the Indian subcontinent. This diet includes whole grains, fruits, vegetables, walnuts, almonds, mustard or soybean oil, which are rich in alpha-linolenic acid. Research has shown that following an Indo-Mediterranean diet can lead to significant health benefits, particularly in reducing the risk of cardiovascular events. In a study involving Indian patients with pre-existing coronary heart disease or high cardiovascular risk, those following the Indo-Mediterranean diet experienced a notable reduction in the rate of cardiovascular death and risk for non-fatal myocardial infarction compared to a control group following a different dietary approach."
      ],
      "text/plain": [
       "<IPython.core.display.Markdown object>"
      ]
     },
     "metadata": {},
     "output_type": "display_data"
    }
   ],
   "source": [
    "from IPython.display import Markdown, display\n",
    "\n",
    "response = result[\"query_result\"]\n",
    "display(Markdown(response))"
   ]
  },
  {
   "cell_type": "code",
   "execution_count": null,
   "metadata": {},
   "outputs": [],
   "source": []
  },
  {
   "cell_type": "code",
   "execution_count": null,
   "metadata": {},
   "outputs": [],
   "source": []
  }
 ],
 "metadata": {
  "kernelspec": {
   "display_name": "eda-llama-index-VIX4Qo5C-py3.11",
   "language": "python",
   "name": "python3"
  },
  "language_info": {
   "codemirror_mode": {
    "name": "ipython",
    "version": 3
   },
   "file_extension": ".py",
   "mimetype": "text/x-python",
   "name": "python",
   "nbconvert_exporter": "python",
   "pygments_lexer": "ipython3",
   "version": "3.11.3"
  },
  "orig_nbformat": 4,
  "vscode": {
   "interpreter": {
    "hash": "4c9fee63db1833b128f9e0fcc88438d876a8dd4a4e8fdc61bea76064c0a94131"
   }
  }
 },
 "nbformat": 4,
 "nbformat_minor": 2
}
