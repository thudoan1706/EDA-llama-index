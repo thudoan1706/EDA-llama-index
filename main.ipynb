{
 "cells": [
  {
   "cell_type": "code",
   "execution_count": 26,
   "metadata": {},
   "outputs": [],
   "source": [
    "import os\n",
    "os.environ[\"OPENAI_API_KEY\"] = \"\"\n"
   ]
  },
  {
   "cell_type": "code",
   "execution_count": 27,
   "metadata": {},
   "outputs": [],
   "source": [
    "INITIAL_REASONING_PROMPT_TEMPLATE = \"\"\"\n",
    "Generate an initial reasoning step using placeholders for the specific values and function calls needed. \n",
    "The goal is to determine the first function to call based on the question provided and the available functions.\n",
    "\n",
    "Use the placeholders labeled y1, y2, etc., to represent outputs if needed. \n",
    "The reasoning should lead to only one function call, represented as an inline string like [FUNC {{function_name}}({{input1}}, {{input2}}, ...) = {{output_placeholder}}].\n",
    "\n",
    "You are not required to use all functions, but you must use at least one function that best matches the question's intent. \n",
    "If the question can be answered without any function, you can conclude so.\n",
    "\n",
    "Assume someone will read the plan after this function has been executed to continue further steps.\n",
    "\n",
    "Example:\n",
    "-----------\n",
    "Available functions:\n",
    "```python\n",
    "def add(a: int, b: int) -> int:\n",
    "    \\\"\\\"\\\"Add two numbers together.\\\"\\\"\\\"\n",
    "    ...\n",
    "\n",
    "def multiply(a: int, b: int) -> int:\n",
    "    \\\"\\\"\\\"Multiply two numbers together.\\\"\\\"\\\"\n",
    "    ...\n",
    "```   \n",
    "    \n",
    "Question:\n",
    "Sally has 3 apples and buys 2 more. Then magically, a wizard casts a spell that multiplies the number of apples by 3. How many apples does Sally have now?\n",
    "\n",
    "Abstract plan of reasoning:\n",
    "After buying the apples, Sally has [FUNC add(3, 2) = y1] apples.\n",
    "\n",
    "Your Turn:\n",
    "-----------\n",
    "Available functions:\n",
    "```python\n",
    "{functions}\n",
    "```\n",
    "\n",
    "Question:\n",
    "{question}\n",
    "\n",
    "Abstract plan of reasoning:\n",
    "\"\"\"\n",
    "\n",
    "NEXT_STEP_REASONING_PROMPT_TEMPLATE = \"\"\"\n",
    "Based on the outputs generated from the previous function calls, decide whether additional steps are necessary:\n",
    "\n",
    "If no further steps are required, return \"NO\".\n",
    "If further steps are needed, provide a clear reasoning step using placeholders (y1, y2, etc.) for specific values and function calls. The objective is to determine the next function to call, using available outputs and aligning with the intent of the question.\n",
    "Use placeholders (y1, y2, etc.) to represent the outputs of previous function calls if needed.\n",
    "The reasoning should lead to a single, well-justified function call, represented as: [FUNC {function_name}({input1}, {input2}, ...) = {output_placeholder}].\n",
    "You are not required to use all functions, but you must select at least one function that best matches the question's intent or utilizes keywords from the previous output to refine the results.\n",
    "If the question can be fully answered without invoking additional functions, conclude accordingly.\n",
    "Assumptions:\n",
    "Assume that someone will read this plan after executing the current function to determine the next steps.\n",
    "\n",
    "Example:\n",
    "-----------\n",
    "Available functions:\n",
    "```python\n",
    "def add(a: int, b: int) -> int:\n",
    "    \\\"\\\"\\\"Add two numbers together.\\\"\\\"\\\"\n",
    "    ...\n",
    "\n",
    "def multiply(a: int, b: int) -> int:\n",
    "    \\\"\\\"\\\"Multiply two numbers together.\\\"\\\"\\\"\n",
    "    ...\n",
    "```   \n",
    "Question:\n",
    "Sally has 3 apples and buys 2 more. Then magically, a wizard casts a spell that multiplies the number of apples by 3. How many apples does Sally have now?\n",
    "\n",
    "Previous Function Call Output:\n",
    "After buying the apples, Sally has [FUNC add(3, 2) = y1] apples. After executing the first function, we have y1 = 5.\n",
    "\n",
    "Abstract Plan of Reasoning for Next Step:\n",
    "Since a wizard casts a spell that multiplies the number of apples by 3, use the output from the previous function call to determine the total apples. Thus, the next function call is [FUNC multiply(y1, 3)].\n",
    "\n",
    "\n",
    "\n",
    "Your Turn:\n",
    "-----------\n",
    "Available functions:\n",
    "```python\n",
    "{functions}\n",
    "```\n",
    "\n",
    "Question:\n",
    "{question}\n",
    "\n",
    "Previous Function Call Output:\n",
    "{function_call_output}\n",
    "\n",
    "Abstract plan of reasoning for next step:\n",
    "\"\"\""
   ]
  },
  {
   "cell_type": "code",
   "execution_count": 28,
   "metadata": {},
   "outputs": [],
   "source": [
    "from llama_index.core.tools.types import AsyncBaseTool\n",
    "from typing import List, Optional\n",
    "from llama_index.core.tools import (\n",
    "    BaseTool,\n",
    "    FunctionTool,\n",
    "    ToolOutput,\n",
    "    adapt_to_async_tool,\n",
    ")\n",
    "from llama_index.llms.openai import OpenAI\n",
    "from llama_index.core import Settings\n",
    "from llama_index.core.base.llms.types import ChatMessage\n",
    "from IPython.display import display, Markdown\n",
    "from agents.coa.tools_handler.tool_retriver import ToolRetriever"
   ]
  },
  {
   "cell_type": "code",
   "execution_count": 29,
   "metadata": {},
   "outputs": [],
   "source": [
    "# main.py\n",
    "import asyncio\n",
    "from typing import Dict\n",
    "from pydantic import BaseModel, Field\n",
    "from agents.pdf_reader_agent.workflow import ConciergeWorkflow as DietConsultantAgent, ConciergeWorkflow as NutritionConsultantAgent\n",
    "\n",
    "\n",
    "# Define a Pydantic model for input validation\n",
    "class DietQuery(BaseModel):\n",
    "    query: str = Field(description=\"A question or query related to diet.\")\n",
    "\n",
    "# Asynchronous function with Pydantic validation\n",
    "async def consult_diet_async(query: str) -> Dict[str, str]:\n",
    "    concierge = DietConsultantAgent(timeout=180, verbose=True)\n",
    "    result = await concierge.run(query=query, collection_name=\"pdf-diet-docs\")\n",
    "    return result\n",
    "\n",
    "# Synchronous wrapper for the asynchronous function with Pydantic validation\n",
    "def consult_diet(query: str) -> Dict[str, object]:\n",
    "    # Validate the input using the Pydantic model\n",
    "    input_data = DietQuery(query=query)\n",
    "    # Run the asynchronous function\n",
    "    return asyncio.run(consult_diet_async(input_data.query))\n",
    "\n",
    "\n",
    "# Define a Pydantic model for input validation with the updated class name\n",
    "class NutritionQuery(BaseModel):\n",
    "    query: str = Field(description=\"A question or query related to nutrition.\")\n",
    "\n",
    "# Asynchronous function with Pydantic validation and updated collection name\n",
    "async def consult_nutrition_async(query: str) -> Dict[str, str]:\n",
    "    concierge = NutritionConsultantAgent(timeout=180, verbose=True)\n",
    "    result = await concierge.run(query=query, collection_name=\"pdf-nutrition-docs\")\n",
    "    return result\n",
    "\n",
    "# Synchronous wrapper for the asynchronous function with Pydantic validation\n",
    "def consult_nutrition(query: str) -> Dict[str, object]:\n",
    "    # Validate the input using the updated Pydantic model\n",
    "    input_data = NutritionQuery(query=query)\n",
    "    # Run the asynchronous function\n",
    "    return asyncio.run(consult_nutrition_async(input_data.query))\n",
    "\n",
    "\n",
    "diet_tool = FunctionTool.from_defaults(\n",
    "        fn=consult_diet,\n",
    "        name=\"consult_diet\",\n",
    "        description=\"Consults on diet based on a query.\",\n",
    "    )\n",
    "\n",
    "# Create the FunctionTool for nutrition consultation with the synchronous wrapper\n",
    "nutrition_tool = FunctionTool.from_defaults(\n",
    "    fn=consult_nutrition,\n",
    "    name=\"consult_nutrition\",\n",
    "    description=\"Provides nutritional information based on a query.\",\n",
    ")\n",
    "\n",
    "tools = [diet_tool, nutrition_tool]"
   ]
  },
  {
   "cell_type": "code",
   "execution_count": 30,
   "metadata": {},
   "outputs": [
    {
     "name": "stdout",
     "output_type": "stream",
     "text": [
      "==== Available Parsed Functions ====\n",
      "def consult_diet(query: string):\n",
      "   \"\"\"Consults on diet based on a query.\"\"\"\n",
      "    ...\n",
      "def consult_nutrition(query: string):\n",
      "   \"\"\"Provides nutritional information based on a query.\"\"\"\n",
      "    ...\n"
     ]
    }
   ],
   "source": [
    "tool_retriever = ToolRetriever(tools)\n",
    "query = (\n",
    "        \"How do omega-3 fatty acids found in fish impact brain health, and what are the recommended dietary guidelines \"\n",
    "        \"for incorporating fish into a Mediterranean diet to maximize cognitive benefits? \"\n",
    "        \"Please include both the nutritional science behind omega-3s and practical meal planning tips.\"\n",
    "        \"What is the Indo-Mediterranean diet\"\n",
    "    )\n",
    "\n",
    "# query = (\"What is the Indo-Mediterranean diet.\")\n",
    "\n",
    "# query = (\"What is the Indo-Mediterranean diet?\")\n",
    "retrieved_tools = tool_retriever.prepare_tools(\"Mediterranean Diet\")\n",
    "print(f\"==== Available Parsed Functions ====\")\n",
    "for tool_str in retrieved_tools[\"tools_strs\"]:\n",
    "    print(tool_str)\n",
    "    \n",
    "tools_strs = retrieved_tools[\"tools_strs\"]\n"
   ]
  },
  {
   "cell_type": "code",
   "execution_count": 31,
   "metadata": {},
   "outputs": [],
   "source": [
    "reasoning_prompt = INITIAL_REASONING_PROMPT_TEMPLATE.format(\n",
    "    functions=\"\\n\".join(tools_strs), question=query\n",
    ")\n",
    "# display(Markdown(reasoning_prompt))\n",
    "# messages = []\n",
    "gpt4o = OpenAI(temperature=0, model=\"gpt-4o\")\n",
    "Settings.llm = gpt4o"
   ]
  },
  {
   "cell_type": "code",
   "execution_count": 32,
   "metadata": {},
   "outputs": [],
   "source": [
    "reasoning_message = ChatMessage(role=\"user\", content=reasoning_prompt)\n",
    "# messages.append(reasoning_message)\n",
    "\n",
    "# run the reasoning prompt\n",
    "response = await gpt4o.achat([reasoning_message])"
   ]
  },
  {
   "cell_type": "code",
   "execution_count": 33,
   "metadata": {},
   "outputs": [
    {
     "data": {
      "text/plain": [
       "ChatResponse(message=ChatMessage(role=<MessageRole.ASSISTANT: 'assistant'>, content='Abstract plan of reasoning:\\nTo address the question about the impact of omega-3 fatty acids on brain health and the recommended dietary guidelines for incorporating fish into a Mediterranean diet, we need to first gather nutritional information about omega-3 fatty acids. Therefore, we should start by consulting the nutritional science behind omega-3s. This can be achieved by calling the function that provides nutritional information based on a query.\\n\\nInitial reasoning step:\\nTo understand the nutritional science behind omega-3 fatty acids, we will use [FUNC consult_nutrition(\"omega-3 fatty acids and brain health\") = y1].', additional_kwargs={}), raw=ChatCompletion(id='chatcmpl-A23YgJynf05MbAAkkq3FF3D0GAJGI', choices=[Choice(finish_reason='stop', index=0, logprobs=None, message=ChatCompletionMessage(content='Abstract plan of reasoning:\\nTo address the question about the impact of omega-3 fatty acids on brain health and the recommended dietary guidelines for incorporating fish into a Mediterranean diet, we need to first gather nutritional information about omega-3 fatty acids. Therefore, we should start by consulting the nutritional science behind omega-3s. This can be achieved by calling the function that provides nutritional information based on a query.\\n\\nInitial reasoning step:\\nTo understand the nutritional science behind omega-3 fatty acids, we will use [FUNC consult_nutrition(\"omega-3 fatty acids and brain health\") = y1].', refusal=None, role='assistant', function_call=None, tool_calls=None))], created=1725053698, model='gpt-4o-2024-05-13', object='chat.completion', service_tier=None, system_fingerprint='fp_157b3831f5', usage=CompletionUsage(completion_tokens=120, prompt_tokens=403, total_tokens=523)), delta=None, logprobs=None, additional_kwargs={'prompt_tokens': 403, 'completion_tokens': 120, 'total_tokens': 523})"
      ]
     },
     "execution_count": 33,
     "metadata": {},
     "output_type": "execute_result"
    }
   ],
   "source": [
    "response"
   ]
  },
  {
   "cell_type": "code",
   "execution_count": 34,
   "metadata": {},
   "outputs": [
    {
     "name": "stdout",
     "output_type": "stream",
     "text": [
      "Abstract plan of reasoning:\n",
      "To address the question about the impact of omega-3 fatty acids on brain health and the recommended dietary guidelines for incorporating fish into a Mediterranean diet, we need to first gather nutritional information about omega-3 fatty acids. Therefore, we should start by consulting the nutritional science behind omega-3s. This can be achieved by calling the function that provides nutritional information based on a query.\n",
      "\n",
      "Initial reasoning step:\n",
      "To understand the nutritional science behind omega-3 fatty acids, we will use [FUNC consult_nutrition(\"omega-3 fatty acids and brain health\") = y1].\n"
     ]
    }
   ],
   "source": [
    "print(str(response.message.content))\n",
    "solution = response.message.content"
   ]
  },
  {
   "cell_type": "code",
   "execution_count": 35,
   "metadata": {},
   "outputs": [],
   "source": [
    "import re\n",
    "func_calls = re.findall(r\"\\[FUNC (\\w+)\\((.*?)\\) = (\\w+)\\]\", solution)\n",
    "func_call = func_calls[0]"
   ]
  },
  {
   "cell_type": "code",
   "execution_count": 36,
   "metadata": {},
   "outputs": [
    {
     "data": {
      "text/plain": [
       "'\"omega-3 fatty acids and brain health\"'"
      ]
     },
     "execution_count": 36,
     "metadata": {},
     "output_type": "execute_result"
    }
   ],
   "source": [
    "func_name, raw_inputs, output_placeholder = func_call\n",
    "raw_inputs"
   ]
  },
  {
   "cell_type": "code",
   "execution_count": 37,
   "metadata": {},
   "outputs": [
    {
     "data": {
      "text/plain": [
       "['\"omega-3 fatty acids and brain health\"']"
      ]
     },
     "execution_count": 37,
     "metadata": {},
     "output_type": "execute_result"
    }
   ],
   "source": [
    "input_data = []\n",
    "results = {}\n",
    "for raw_input in raw_inputs.split(\",\"):\n",
    "    raw_input = raw_input.strip()\n",
    "    try:\n",
    "        input_data.append(int(results.get(raw_input, raw_input)))\n",
    "    except ValueError:\n",
    "        input_data.append(raw_input)\n",
    "        \n",
    "input_data"
   ]
  },
  {
   "cell_type": "code",
   "execution_count": 38,
   "metadata": {},
   "outputs": [
    {
     "data": {
      "text/plain": [
       "{'consult_diet': <llama_index.core.tools.function_tool.FunctionTool at 0x28e7502d0>,\n",
       " 'consult_nutrition': <llama_index.core.tools.function_tool.FunctionTool at 0x28e778cd0>}"
      ]
     },
     "execution_count": 38,
     "metadata": {},
     "output_type": "execute_result"
    }
   ],
   "source": [
    "tools_by_name = retrieved_tools[\"tools_by_name\"]\n",
    "tools_by_name"
   ]
  },
  {
   "cell_type": "code",
   "execution_count": 39,
   "metadata": {},
   "outputs": [],
   "source": [
    "tool_output = await tools_by_name[func_name].acall(*input_data)"
   ]
  },
  {
   "cell_type": "code",
   "execution_count": 40,
   "metadata": {},
   "outputs": [
    {
     "data": {
      "text/plain": [
       "{'query_result': 'Omega-3 fatty acids have been shown to play a significant role in brain health. Dietary supplementation with omega-3 fatty acids, particularly docosahexaenoic acid (DHA), has been found to elevate levels of hippocampal brain-derived neurotrophic factor (BDNF) and enhance cognitive function. These fatty acids may improve cognitive abilities by facilitating synaptic plasticity, enhancing synaptic membrane fluidity, stimulating glucose utilization, and improving mitochondrial function, thereby reducing oxidative stress. Studies have also indicated that omega-3 fatty acid supplementation can reduce cognitive deficits associated with psychiatric disorders and improve school performance in children.',\n",
       " 'source_node': ['Incorporating this knowledge into the design of novel treatments could be vital to combating mental diseases and neurological weaknesses. Acknowledgments In the elaboration of this article, I greatly benefited from inspirational discussions with G. Cole, I. Cook, R. Edgerton, T. Jones and D. Glanzman. I would also like to thank A. She and S. Kim for valuable editorial assistance. I am thankful to the reviewers for their constructive feedback, and to the National Institute of Neurological Disorder and Stroke (NS50465) for funding support. References 1. McCann JC, Ames BN. Is docosahexaenoic acid, an n-3 long-chain polyunsaturated fatty acid, required for development of normal brain function? An overview of evidence from cognitive and behavioral tests in humans and animals. Am J Clin Nutr 2005;82:281–295. [PubMed: 16087970] 2. Wu A, Ying Z, Gomez-Pinilla F. Omega-3 fatty acids supplementation restores mechanisms that maintain brain homeostasis in traumatic brain injury. J Neurotrauma 2007;24:1587–1595. [PubMed: 17970622] 3. Greenwood CE, Winocur G. High-fat diets, insulin resistance and declining cognitive function. Neurobiol Aging 2005;26 (Suppl 1):42–45. [PubMed: 16257476] 4. Molteni R, Barnard JR, Ying Z, Roberts CK, Gomez-Pinilla F. A high-fat, refined sugar diet reduces hippocampal brain-derived neurotrophic factor, neuronal plasticity, and learning. Neuroscience 2002;112:803–814. [PubMed: 12088740] 5. Pessoa L. On the relationship between emotion and cognition. Nature Rev Neurosci 2008;9:148–158. [PubMed: 18209732] Nat Rev Neurosci. Author manuscript; available in PMC 2010 January 12. NIH-PA Author Manuscript NIH-PA Author Manuscript NIH-PA Author Manuscript',\n",
       "  'Gómez-Pinilla Page 7 which DHA affects brain plasticity and cognition are starting to be elucidated. For example, DHA dietary supplementation has been found to elevate levels of hippocampal BDNF and enhance cognitive function in rodent models of brain trauma81. DHA might enhance cognitive abilities by facilitating synaptic plasticity and/or enhancing synaptic membrane fluidity; it might also act through its effects on metabolism, as DHA stimulates glucose utilization82 and mitochondrial function83, reducing oxidative stress (OS)81. Most of the studies in humans have been directed at evaluating the effects of omega-3 fatty acids on reducing the cognitive deficit that is associated with psychiatric disorders. Several other, widely publicized, attempts to determine the effects of omega-3 fatty acid supplementation on the performance of school children have been carried out. A randomized double-blind controlled trial in which half of the children received omega-3 fatty acids and the other half received placebos is being conducted across several schools in Durham, UK84. Previous studies from the same investigators showed that omega-3 fatty acid supplementation was associated with reduced cognitive deficits (in reading and spelling, and teaching-rated behaviour) in children affected with developmental coordination disorder — that is, in children with specific impairments of motor function that are independent of their motor ability 85. In the new studies, children were selected on the basis that “they were not fulfilling their potential at school” but their general ability was deemed “normal”, and they were subjected to regular tests to measure their coordination, concentration and academic ability. According to preliminary results84, some level of improvement in school performance was observed in the group receiving omega-3 fatty acids, unleashing a flurry of speculations from the media. Although the results of the Durham study require scientific scrutiny for validation, they seem to agree with those of another study86 in which omega-3 fatty acids (DHA 88 mg per day and eicosapentaenoic acid (EPA) 22 mg per day) and micro-nutrients (iron, zinc, folate and vitamins A, B6, B12 and C) were provided in a drink mix to 396 children (6–12 years of age) in Australia and 394 children in Indonesia. The results showed higher scores on tests that measured verbal intelligence and learning and memory after 6 and 12 months in both boys and girls in Australia, but in only girls in Indonesia.']}"
      ]
     },
     "execution_count": 40,
     "metadata": {},
     "output_type": "execute_result"
    }
   ],
   "source": [
    "tool_output.raw_output"
   ]
  },
  {
   "cell_type": "code",
   "execution_count": 41,
   "metadata": {},
   "outputs": [],
   "source": [
    "from agents.coa_agent.prompts.evaluator import prometheus_relevancy_eval_prompt_template, prometheus_relevancy_refine_prompt_template\n",
    "from agents.coa_agent.validator.relevancy_eval import GPT4RelevancyEvaluator\n",
    "import nest_asyncio\n",
    "nest_asyncio.apply()\n",
    "\n"
   ]
  },
  {
   "cell_type": "code",
   "execution_count": 42,
   "metadata": {},
   "outputs": [],
   "source": [
    "relevancy_eval_prompt_template = \"\"\"###Task Description: An instruction (might include an Input inside it), a query, context, and a score rubric representing evaluation criteria are given. \n",
    "       1. You are provided with evaluation task with the help of a query and context output by function tool.\n",
    "       2. Write a detailed feedback based on evaluation task and the given score rubric, not evaluating in general. \n",
    "       3. After writing a feedback, write a score that is YES or NO. You should refer to the score rubric. \n",
    "       4. The output format should look as follows: \"Feedback: (write a feedback for criteria) [RESULT] (YES or NO)” \n",
    "       5. Please do not generate any other opening, closing, and explanations. \n",
    "\n",
    "        ###The instruction to evaluate: Your task is to evaluate if the source nodes for the query whether they are in line with the context information provided.\n",
    "\n",
    "        ###Query: {query_str} \n",
    "\n",
    "        ###Context: {context_str}\n",
    "            \n",
    "        ###Score Rubrics: \n",
    "        Score YES: If the context information provided is sufficient and in line to answer the query.\n",
    "        Score NO: If the context information provided is sufficient and in line to answer the query.\n",
    "        \n",
    "        ###Feedback: \"\"\""
   ]
  },
  {
   "cell_type": "code",
   "execution_count": 43,
   "metadata": {},
   "outputs": [
    {
     "name": "stdout",
     "output_type": "stream",
     "text": [
      "\n",
      "\n",
      "The context provided in the query is not sufficient to answer the question. The query asks for information on the impact of omega-3 fatty acids on brain health and practical meal planning tips for incorporating fish into a Mediterranean diet. However, the context does not provide any relevant information on these topics. It only mentions the Indo-Mediterranean diet and acknowledges the contributions of various individuals and organizations. This does not align with the query's focus on omega-3 fatty acids, brain health, and dietary guidelines. Therefore, the context information provided is not sufficient and in line to answer the query. \n",
      "\n",
      "The score rubric requires the context information to be sufficient and in line to answer the query. In this case, the context information is not sufficient and does not align with the query's focus. Hence, the score is NO. \n",
      "\n",
      "[RESULT] NO\n",
      "\n",
      "\n",
      "The context provided is comprehensive and directly addresses the query. It delves into the nutritional science behind omega-3 fatty acids, specifically DHA, and its impact on brain health. The response also includes practical meal planning tips, such as the incorporation of fish into a Mediterranean diet. The context is well-structured and provides a clear understanding of the topic, making it a valuable resource for the query. It also includes relevant studies and their findings, which further supports the information provided. The response is well-aligned with the query, demonstrating a thorough understanding of the subject matter. Therefore, based on the score rubric, the context information provided is sufficient and in line to answer the query. \n",
      "\n",
      "[RESULT] YES\n",
      "Number of nodes before validated  2\n",
      "Number of nodes after validated  1\n"
     ]
    }
   ],
   "source": [
    "evaluator = GPT4RelevancyEvaluator(relevancy_eval_prompt_template, prometheus_relevancy_refine_prompt_template)\n",
    "\n",
    "result_source_node = evaluator.evaluate_sources(query, tool_output.raw_output)\n",
    "    "
   ]
  },
  {
   "cell_type": "code",
   "execution_count": 44,
   "metadata": {},
   "outputs": [
    {
     "name": "stdout",
     "output_type": "stream",
     "text": [
      "==== Available Parsed Functions ====\n",
      "def consult_diet(query: string):\n",
      "   \"\"\"Consults on diet based on a query.\"\"\"\n",
      "    ...\n",
      "def consult_nutrition(query: string):\n",
      "   \"\"\"Provides nutritional information based on a query.\"\"\"\n",
      "    ...\n"
     ]
    }
   ],
   "source": [
    "print(f\"==== Available Parsed Functions ====\")\n",
    "for tool_str in retrieved_tools[\"tools_strs\"]:\n",
    "    print(tool_str)\n",
    "    \n",
    "parsed_functions = \"==== Available Parsed Functions ==== \\n\"\n",
    "for tool_str in retrieved_tools[\"tools_strs\"]:\n",
    "    parsed_functions += tool_str\n"
   ]
  },
  {
   "cell_type": "code",
   "execution_count": 45,
   "metadata": {},
   "outputs": [
    {
     "data": {
      "text/plain": [
       "{'y1': (['Gómez-Pinilla Page 7 which DHA affects brain plasticity and cognition are starting to be elucidated. For example, DHA dietary supplementation has been found to elevate levels of hippocampal BDNF and enhance cognitive function in rodent models of brain trauma81. DHA might enhance cognitive abilities by facilitating synaptic plasticity and/or enhancing synaptic membrane fluidity; it might also act through its effects on metabolism, as DHA stimulates glucose utilization82 and mitochondrial function83, reducing oxidative stress (OS)81. Most of the studies in humans have been directed at evaluating the effects of omega-3 fatty acids on reducing the cognitive deficit that is associated with psychiatric disorders. Several other, widely publicized, attempts to determine the effects of omega-3 fatty acid supplementation on the performance of school children have been carried out. A randomized double-blind controlled trial in which half of the children received omega-3 fatty acids and the other half received placebos is being conducted across several schools in Durham, UK84. Previous studies from the same investigators showed that omega-3 fatty acid supplementation was associated with reduced cognitive deficits (in reading and spelling, and teaching-rated behaviour) in children affected with developmental coordination disorder — that is, in children with specific impairments of motor function that are independent of their motor ability 85. In the new studies, children were selected on the basis that “they were not fulfilling their potential at school” but their general ability was deemed “normal”, and they were subjected to regular tests to measure their coordination, concentration and academic ability. According to preliminary results84, some level of improvement in school performance was observed in the group receiving omega-3 fatty acids, unleashing a flurry of speculations from the media. Although the results of the Durham study require scientific scrutiny for validation, they seem to agree with those of another study86 in which omega-3 fatty acids (DHA 88 mg per day and eicosapentaenoic acid (EPA) 22 mg per day) and micro-nutrients (iron, zinc, folate and vitamins A, B6, B12 and C) were provided in a drink mix to 396 children (6–12 years of age) in Australia and 394 children in Indonesia. The results showed higher scores on tests that measured verbal intelligence and learning and memory after 6 and 12 months in both boys and girls in Australia, but in only girls in Indonesia.'],\n",
       "  1)}"
      ]
     },
     "execution_count": 45,
     "metadata": {},
     "output_type": "execute_result"
    }
   ],
   "source": [
    "accumulated_source_nodes = []\n",
    "accumulated_source_nodes.append(result_source_node)\n",
    "results[output_placeholder] = result_source_node\n",
    "results"
   ]
  },
  {
   "cell_type": "code",
   "execution_count": 48,
   "metadata": {},
   "outputs": [
    {
     "name": "stdout",
     "output_type": "stream",
     "text": [
      "\n",
      "\n"
     ]
    }
   ],
   "source": [
    "accumulated_solution = []\n",
    "for placeholder, value in results.items():\n",
    "    solution = solution.replace(\"Abstract plan of reasoning\", \"\").replace(f\"{placeholder}\", '\"' + str(value) + '\"')\n",
    "    print(\"\\n\")\n",
    "    \n",
    "accumulated_solution.append(solution)\n"
   ]
  },
  {
   "cell_type": "code",
   "execution_count": 49,
   "metadata": {},
   "outputs": [
    {
     "data": {
      "text/plain": [
       "':\\nTo address the question about the impact of omega-3 fatty acids on brain health and the recommended dietary guidelines for incorporating fish into a Mediterranean diet, we need to first gather nutritional information about omega-3 fatty acids. Therefore, we should start by consulting the nutritional science behind omega-3s. This can be achieved by calling the function that provides nutritional information based on a query.\\n\\nInitial reasoning step:\\nTo understand the nutritional science behind omega-3 fatty acids, we will use [FUNC consult_nutrition(\"omega-3 fatty acids and brain health\") = \"([\\'Gómez-Pinilla Page 7 which DHA affects brain plasticity and cognition are starting to be elucidated. For example, DHA dietary supplementation has been found to elevate levels of hippocampal BDNF and enhance cognitive function in rodent models of brain trauma81. DHA might enhance cognitive abilities by facilitating synaptic plasticity and/or enhancing synaptic membrane fluidity; it might also act through its effects on metabolism, as DHA stimulates glucose utilization82 and mitochondrial function83, reducing oxidative stress (OS)81. Most of the studies in humans have been directed at evaluating the effects of omega-3 fatty acids on reducing the cognitive deficit that is associated with psychiatric disorders. Several other, widely publicized, attempts to determine the effects of omega-3 fatty acid supplementation on the performance of school children have been carried out. A randomized double-blind controlled trial in which half of the children received omega-3 fatty acids and the other half received placebos is being conducted across several schools in Durham, UK84. Previous studies from the same investigators showed that omega-3 fatty acid supplementation was associated with reduced cognitive deficits (in reading and spelling, and teaching-rated behaviour) in children affected with developmental coordination disorder — that is, in children with specific impairments of motor function that are independent of their motor ability 85. In the new studies, children were selected on the basis that “they were not fulfilling their potential at school” but their general ability was deemed “normal”, and they were subjected to regular tests to measure their coordination, concentration and academic ability. According to preliminary results84, some level of improvement in school performance was observed in the group receiving omega-3 fatty acids, unleashing a flurry of speculations from the media. Although the results of the Durham study require scientific scrutiny for validation, they seem to agree with those of another study86 in which omega-3 fatty acids (DHA 88 mg per day and eicosapentaenoic acid (EPA) 22 mg per day) and micro-nutrients (iron, zinc, folate and vitamins A, B6, B12 and C) were provided in a drink mix to 396 children (6–12 years of age) in Australia and 394 children in Indonesia. The results showed higher scores on tests that measured verbal intelligence and learning and memory after 6 and 12 months in both boys and girls in Australia, but in only girls in Indonesia.\\'], 1)\"].'"
      ]
     },
     "execution_count": 49,
     "metadata": {},
     "output_type": "execute_result"
    }
   ],
   "source": [
    "solution"
   ]
  },
  {
   "cell_type": "code",
   "execution_count": null,
   "metadata": {},
   "outputs": [],
   "source": []
  },
  {
   "cell_type": "code",
   "execution_count": null,
   "metadata": {},
   "outputs": [],
   "source": []
  },
  {
   "cell_type": "code",
   "execution_count": null,
   "metadata": {},
   "outputs": [],
   "source": []
  },
  {
   "cell_type": "code",
   "execution_count": null,
   "metadata": {},
   "outputs": [],
   "source": []
  },
  {
   "cell_type": "code",
   "execution_count": null,
   "metadata": {},
   "outputs": [],
   "source": []
  },
  {
   "cell_type": "code",
   "execution_count": 50,
   "metadata": {},
   "outputs": [
    {
     "data": {
      "text/markdown": [
       ":\n",
       "To address the question about the impact of omega-3 fatty acids on brain health and the recommended dietary guidelines for incorporating fish into a Mediterranean diet, we need to first gather nutritional information about omega-3 fatty acids. Therefore, we should start by consulting the nutritional science behind omega-3s. This can be achieved by calling the function that provides nutritional information based on a query.\n",
       "\n",
       "Initial reasoning step:\n",
       "To understand the nutritional science behind omega-3 fatty acids, we will use [FUNC consult_nutrition(\"omega-3 fatty acids and brain health\") = \"(['Gómez-Pinilla Page 7 which DHA affects brain plasticity and cognition are starting to be elucidated. For example, DHA dietary supplementation has been found to elevate levels of hippocampal BDNF and enhance cognitive function in rodent models of brain trauma81. DHA might enhance cognitive abilities by facilitating synaptic plasticity and/or enhancing synaptic membrane fluidity; it might also act through its effects on metabolism, as DHA stimulates glucose utilization82 and mitochondrial function83, reducing oxidative stress (OS)81. Most of the studies in humans have been directed at evaluating the effects of omega-3 fatty acids on reducing the cognitive deficit that is associated with psychiatric disorders. Several other, widely publicized, attempts to determine the effects of omega-3 fatty acid supplementation on the performance of school children have been carried out. A randomized double-blind controlled trial in which half of the children received omega-3 fatty acids and the other half received placebos is being conducted across several schools in Durham, UK84. Previous studies from the same investigators showed that omega-3 fatty acid supplementation was associated with reduced cognitive deficits (in reading and spelling, and teaching-rated behaviour) in children affected with developmental coordination disorder — that is, in children with specific impairments of motor function that are independent of their motor ability 85. In the new studies, children were selected on the basis that “they were not fulfilling their potential at school” but their general ability was deemed “normal”, and they were subjected to regular tests to measure their coordination, concentration and academic ability. According to preliminary results84, some level of improvement in school performance was observed in the group receiving omega-3 fatty acids, unleashing a flurry of speculations from the media. Although the results of the Durham study require scientific scrutiny for validation, they seem to agree with those of another study86 in which omega-3 fatty acids (DHA 88 mg per day and eicosapentaenoic acid (EPA) 22 mg per day) and micro-nutrients (iron, zinc, folate and vitamins A, B6, B12 and C) were provided in a drink mix to 396 children (6–12 years of age) in Australia and 394 children in Indonesia. The results showed higher scores on tests that measured verbal intelligence and learning and memory after 6 and 12 months in both boys and girls in Australia, but in only girls in Indonesia.'], 1)\"]."
      ],
      "text/plain": [
       "<IPython.core.display.Markdown object>"
      ]
     },
     "metadata": {},
     "output_type": "display_data"
    }
   ],
   "source": [
    "display(Markdown(solution))"
   ]
  },
  {
   "cell_type": "code",
   "execution_count": 51,
   "metadata": {},
   "outputs": [
    {
     "ename": "KeyError",
     "evalue": "'function_name'",
     "output_type": "error",
     "traceback": [
      "\u001b[0;31m---------------------------------------------------------------------------\u001b[0m",
      "\u001b[0;31mKeyError\u001b[0m                                  Traceback (most recent call last)",
      "Cell \u001b[0;32mIn[51], line 1\u001b[0m\n\u001b[0;32m----> 1\u001b[0m reasoning_prompt \u001b[39m=\u001b[39m NEXT_STEP_REASONING_PROMPT_TEMPLATE\u001b[39m.\u001b[39;49mformat(\n\u001b[1;32m      2\u001b[0m     functions\u001b[39m=\u001b[39;49m\u001b[39m\"\u001b[39;49m\u001b[39m\\n\u001b[39;49;00m\u001b[39m\"\u001b[39;49m\u001b[39m.\u001b[39;49mjoin(tools_strs), question\u001b[39m=\u001b[39;49mquery, function_call_output\u001b[39m=\u001b[39;49msolution\n\u001b[1;32m      3\u001b[0m )\n\u001b[1;32m      5\u001b[0m reasoning_message \u001b[39m=\u001b[39m ChatMessage(role\u001b[39m=\u001b[39m\u001b[39m\"\u001b[39m\u001b[39muser\u001b[39m\u001b[39m\"\u001b[39m, content\u001b[39m=\u001b[39mreasoning_prompt)\n\u001b[1;32m      6\u001b[0m \u001b[39m# messages.append(reasoning_message)\u001b[39;00m\n\u001b[1;32m      7\u001b[0m \n\u001b[1;32m      8\u001b[0m \u001b[39m# run the reasoning prompt\u001b[39;00m\n",
      "\u001b[0;31mKeyError\u001b[0m: 'function_name'"
     ]
    }
   ],
   "source": [
    "reasoning_prompt = NEXT_STEP_REASONING_PROMPT_TEMPLATE.format(\n",
    "    functions=\"\\n\".join(tools_strs), question=query, function_call_output=solution\n",
    ")\n",
    "\n",
    "reasoning_message = ChatMessage(role=\"user\", content=reasoning_prompt)\n",
    "# messages.append(reasoning_message)\n",
    "\n",
    "# run the reasoning prompt\n",
    "response = await gpt4o.achat([reasoning_message])"
   ]
  },
  {
   "cell_type": "code",
   "execution_count": 52,
   "metadata": {},
   "outputs": [
    {
     "data": {
      "text/markdown": [
       "\n",
       "Generate an initial reasoning step using placeholders for the specific values and function calls needed. \n",
       "The goal is to determine the first function to call based on the question provided and the available functions.\n",
       "\n",
       "Use the placeholders labeled y1, y2, etc., to represent outputs if needed. \n",
       "The reasoning should lead to only one function call, represented as an inline string like [FUNC {function_name}({input1}, {input2}, ...) = {output_placeholder}].\n",
       "\n",
       "You are not required to use all functions, but you must use at least one function that best matches the question's intent. \n",
       "If the question can be answered without any function, you can conclude so.\n",
       "\n",
       "Assume someone will read the plan after this function has been executed to continue further steps.\n",
       "\n",
       "Example:\n",
       "-----------\n",
       "Available functions:\n",
       "```python\n",
       "def add(a: int, b: int) -> int:\n",
       "    \"\"\"Add two numbers together.\"\"\"\n",
       "    ...\n",
       "\n",
       "def multiply(a: int, b: int) -> int:\n",
       "    \"\"\"Multiply two numbers together.\"\"\"\n",
       "    ...\n",
       "```   \n",
       "    \n",
       "Question:\n",
       "Sally has 3 apples and buys 2 more. Then magically, a wizard casts a spell that multiplies the number of apples by 3. How many apples does Sally have now?\n",
       "\n",
       "Abstract plan of reasoning:\n",
       "After buying the apples, Sally has [FUNC add(3, 2) = y1] apples.\n",
       "\n",
       "Your Turn:\n",
       "-----------\n",
       "Available functions:\n",
       "```python\n",
       "def consult_diet(query: string):\n",
       "   \"\"\"Consults on diet based on a query.\"\"\"\n",
       "    ...\n",
       "def consult_nutrition(query: string):\n",
       "   \"\"\"Provides nutritional information based on a query.\"\"\"\n",
       "    ...\n",
       "```\n",
       "\n",
       "Question:\n",
       "How do omega-3 fatty acids found in fish impact brain health, and what are the recommended dietary guidelines for incorporating fish into a Mediterranean diet to maximize cognitive benefits? Please include both the nutritional science behind omega-3s and practical meal planning tips.What is the Indo-Mediterranean diet\n",
       "\n",
       "Abstract plan of reasoning:\n"
      ],
      "text/plain": [
       "<IPython.core.display.Markdown object>"
      ]
     },
     "metadata": {},
     "output_type": "display_data"
    }
   ],
   "source": [
    "display(Markdown(reasoning_prompt))"
   ]
  },
  {
   "cell_type": "code",
   "execution_count": 53,
   "metadata": {},
   "outputs": [
    {
     "data": {
      "text/plain": [
       "'Abstract plan of reasoning:\\nTo address the question about the impact of omega-3 fatty acids on brain health and the recommended dietary guidelines for incorporating fish into a Mediterranean diet, we need to first gather nutritional information about omega-3 fatty acids. Therefore, we should start by consulting the nutritional science behind omega-3s. This can be achieved by calling the function that provides nutritional information based on a query.\\n\\nInitial reasoning step:\\nTo understand the nutritional science behind omega-3 fatty acids, we will use [FUNC consult_nutrition(\"omega-3 fatty acids and brain health\") = y1].'"
      ]
     },
     "execution_count": 53,
     "metadata": {},
     "output_type": "execute_result"
    }
   ],
   "source": [
    "solution = response.message.content\n",
    "solution"
   ]
  },
  {
   "cell_type": "code",
   "execution_count": 54,
   "metadata": {},
   "outputs": [],
   "source": [
    "import re\n",
    "func_calls = re.findall(r\"\\[FUNC (\\w+)\\((.*?)\\) = (\\w+)\\]\", solution)\n",
    "func_call = func_calls"
   ]
  },
  {
   "cell_type": "code",
   "execution_count": 55,
   "metadata": {},
   "outputs": [
    {
     "data": {
      "text/plain": [
       "[('consult_nutrition', '\"omega-3 fatty acids and brain health\"', 'y1')]"
      ]
     },
     "execution_count": 55,
     "metadata": {},
     "output_type": "execute_result"
    }
   ],
   "source": [
    "func_call"
   ]
  },
  {
   "cell_type": "code",
   "execution_count": 56,
   "metadata": {},
   "outputs": [
    {
     "data": {
      "text/plain": [
       "{'y1': (['Gómez-Pinilla Page 7 which DHA affects brain plasticity and cognition are starting to be elucidated. For example, DHA dietary supplementation has been found to elevate levels of hippocampal BDNF and enhance cognitive function in rodent models of brain trauma81. DHA might enhance cognitive abilities by facilitating synaptic plasticity and/or enhancing synaptic membrane fluidity; it might also act through its effects on metabolism, as DHA stimulates glucose utilization82 and mitochondrial function83, reducing oxidative stress (OS)81. Most of the studies in humans have been directed at evaluating the effects of omega-3 fatty acids on reducing the cognitive deficit that is associated with psychiatric disorders. Several other, widely publicized, attempts to determine the effects of omega-3 fatty acid supplementation on the performance of school children have been carried out. A randomized double-blind controlled trial in which half of the children received omega-3 fatty acids and the other half received placebos is being conducted across several schools in Durham, UK84. Previous studies from the same investigators showed that omega-3 fatty acid supplementation was associated with reduced cognitive deficits (in reading and spelling, and teaching-rated behaviour) in children affected with developmental coordination disorder — that is, in children with specific impairments of motor function that are independent of their motor ability 85. In the new studies, children were selected on the basis that “they were not fulfilling their potential at school” but their general ability was deemed “normal”, and they were subjected to regular tests to measure their coordination, concentration and academic ability. According to preliminary results84, some level of improvement in school performance was observed in the group receiving omega-3 fatty acids, unleashing a flurry of speculations from the media. Although the results of the Durham study require scientific scrutiny for validation, they seem to agree with those of another study86 in which omega-3 fatty acids (DHA 88 mg per day and eicosapentaenoic acid (EPA) 22 mg per day) and micro-nutrients (iron, zinc, folate and vitamins A, B6, B12 and C) were provided in a drink mix to 396 children (6–12 years of age) in Australia and 394 children in Indonesia. The results showed higher scores on tests that measured verbal intelligence and learning and memory after 6 and 12 months in both boys and girls in Australia, but in only girls in Indonesia.'],\n",
       "  1)}"
      ]
     },
     "execution_count": 56,
     "metadata": {},
     "output_type": "execute_result"
    }
   ],
   "source": [
    "results"
   ]
  },
  {
   "cell_type": "code",
   "execution_count": 57,
   "metadata": {},
   "outputs": [
    {
     "data": {
      "text/plain": [
       "('\"omega-3 fatty acids and brain health\"', 'consult_nutrition', 'y1')"
      ]
     },
     "execution_count": 57,
     "metadata": {},
     "output_type": "execute_result"
    }
   ],
   "source": [
    "func_name, raw_inputs, output_placeholder = func_call[-1]\n",
    "raw_inputs, func_name, output_placeholder"
   ]
  },
  {
   "cell_type": "code",
   "execution_count": 58,
   "metadata": {},
   "outputs": [
    {
     "data": {
      "text/plain": [
       "'\"omega-3 fatty acids and brain health\"'"
      ]
     },
     "execution_count": 58,
     "metadata": {},
     "output_type": "execute_result"
    }
   ],
   "source": [
    "results.get(raw_input, raw_input)"
   ]
  },
  {
   "cell_type": "code",
   "execution_count": 59,
   "metadata": {},
   "outputs": [
    {
     "data": {
      "text/plain": [
       "['\"omega-3 fatty acids and brain health\"']"
      ]
     },
     "execution_count": 59,
     "metadata": {},
     "output_type": "execute_result"
    }
   ],
   "source": [
    "input_data = []\n",
    "for raw_input in raw_inputs.split(\",\"):\n",
    "    raw_input = raw_input.strip()\n",
    "    try:\n",
    "        input_data.append(int(results.get(raw_input, raw_input)[0][0]))\n",
    "    except ValueError:\n",
    "        input_data.append(results.get(raw_input, raw_input))\n",
    "        \n",
    "input_data"
   ]
  },
  {
   "cell_type": "code",
   "execution_count": 60,
   "metadata": {},
   "outputs": [],
   "source": [
    "tool_output = await tools_by_name[func_name].acall(*input_data)"
   ]
  },
  {
   "cell_type": "code",
   "execution_count": 40,
   "metadata": {},
   "outputs": [
    {
     "name": "stdout",
     "output_type": "stream",
     "text": [
      "The context provided does not contain any information about the Indo-Mediterranean diet, which is the subject of the query. The context discusses the effects of certain cytokines, the benefits of fish in a diet, and the criteria for diagnosing metabolic syndrome. However, it does not provide any information about what the Indo-Mediterranean diet is, what it includes, or any other relevant details. Therefore, it is not in line with the query. [RESULT] NO\n",
      "The context provided does not contain any information about the Indo-Mediterranean diet. It mainly discusses the benefits of fish consumption and its impact on cardiovascular diseases. Therefore, it does not provide any source nodes that can be used to answer the query about the Indo-Mediterranean diet. [RESULT] NO\n",
      "Number of nodes before validated  2\n",
      "Number of nodes after validated  0\n"
     ]
    },
    {
     "data": {
      "text/plain": [
       "{'y1': (['No output is generated. Please modify the input for the current function call'],\n",
       "  1)}"
      ]
     },
     "execution_count": 40,
     "metadata": {},
     "output_type": "execute_result"
    }
   ],
   "source": [
    "evaluator = GPT4RelevancyEvaluator(relevancy_eval_prompt_template, prometheus_relevancy_refine_prompt_template)\n",
    "\n",
    "result_source_node = evaluator.evaluate_sources(query, tool_output.raw_output)\n",
    "results[output_placeholder] = result_source_node\n",
    "results"
   ]
  },
  {
   "cell_type": "code",
   "execution_count": 41,
   "metadata": {},
   "outputs": [
    {
     "data": {
      "text/plain": [
       "'Based on the provided output, the next steps should be planned to further elaborate on the Indo-Mediterranean diet. The initial function call has provided a detailed description of the diet and its benefits. However, if the goal is to obtain more specific nutritional information or further consult on the diet, we can proceed with another function call.\\n\\nGiven the available functions, the next logical step would be to use the `consult_nutrition` function to get more detailed nutritional information about the Indo-Mediterranean diet.\\n\\nAbstract plan of reasoning for next step:\\nTo obtain detailed nutritional information about the Indo-Mediterranean diet, we should use the function that provides nutritional information based on a query. The query will be \"Indo-Mediterranean diet\".\\n\\n[FUNC consult_nutrition(\"Indo-Mediterranean diet\") = y1]'"
      ]
     },
     "execution_count": 41,
     "metadata": {},
     "output_type": "execute_result"
    }
   ],
   "source": [
    "solution"
   ]
  },
  {
   "cell_type": "code",
   "execution_count": 42,
   "metadata": {},
   "outputs": [
    {
     "name": "stdout",
     "output_type": "stream",
     "text": [
      "(['No output is generated. Please modify the input for the current function call'], 1)\n",
      "\n",
      "\n"
     ]
    },
    {
     "data": {
      "text/markdown": [
       "Based on the provided output, the next steps should be planned to further elaborate on the Indo-Mediterranean diet. The initial function call has provided a detailed description of the diet and its benefits. However, if the goal is to obtain more specific nutritional information or further consult on the diet, we can proceed with another function call.\n",
       "\n",
       "Given the available functions, the next logical step would be to use the `consult_nutrition` function to get more detailed nutritional information about the Indo-Mediterranean diet.\n",
       "\n",
       ":\n",
       "To obtain detailed nutritional information about the Indo-Mediterranean diet, we should use the function that provides nutritional information based on a query. The query will be \"Indo-Mediterranean diet\".\n",
       "\n",
       "[FUNC consult_nutrition(\"Indo-Mediterranean diet\") = \"(['No output is generated. Please modify the input for the current function call'], 1)\"]"
      ],
      "text/plain": [
       "<IPython.core.display.Markdown object>"
      ]
     },
     "metadata": {},
     "output_type": "display_data"
    }
   ],
   "source": [
    "next_solution = solution\n",
    "for placeholder, value in results.items():\n",
    "    print(value)\n",
    "    next_solution = next_solution.replace(f\"{placeholder}\", '\"' + str(value) + '\"').replace(\"Abstract plan of reasoning for next step\", \"\")\n",
    "    print(\"\\n\")\n",
    "\n",
    "display(Markdown(next_solution))"
   ]
  },
  {
   "cell_type": "code",
   "execution_count": 27,
   "metadata": {},
   "outputs": [
    {
     "ename": "NameError",
     "evalue": "name 'next_solution' is not defined",
     "output_type": "error",
     "traceback": [
      "\u001b[0;31m---------------------------------------------------------------------------\u001b[0m",
      "\u001b[0;31mNameError\u001b[0m                                 Traceback (most recent call last)",
      "Cell \u001b[0;32mIn[27], line 2\u001b[0m\n\u001b[1;32m      1\u001b[0m reasoning_prompt \u001b[39m=\u001b[39m NEXT_STEP_REASONING_PROMPT_TEMPLATE\u001b[39m.\u001b[39mformat(\n\u001b[0;32m----> 2\u001b[0m     functions\u001b[39m=\u001b[39m\u001b[39m\"\u001b[39m\u001b[39m\\n\u001b[39;00m\u001b[39m\"\u001b[39m\u001b[39m.\u001b[39mjoin(tools_strs), question\u001b[39m=\u001b[39mquery, function_call_output\u001b[39m=\u001b[39mnext_solution\n\u001b[1;32m      3\u001b[0m )\n\u001b[1;32m      5\u001b[0m reasoning_message \u001b[39m=\u001b[39m ChatMessage(role\u001b[39m=\u001b[39m\u001b[39m\"\u001b[39m\u001b[39muser\u001b[39m\u001b[39m\"\u001b[39m, content\u001b[39m=\u001b[39mreasoning_prompt)\n\u001b[1;32m      6\u001b[0m \u001b[39m# messages.append(reasoning_message)\u001b[39;00m\n\u001b[1;32m      7\u001b[0m \n\u001b[1;32m      8\u001b[0m \u001b[39m# run the reasoning prompt\u001b[39;00m\n",
      "\u001b[0;31mNameError\u001b[0m: name 'next_solution' is not defined"
     ]
    }
   ],
   "source": [
    "reasoning_prompt = NEXT_STEP_REASONING_PROMPT_TEMPLATE.format(\n",
    "    functions=\"\\n\".join(tools_strs), question=query, function_call_output=next_solution\n",
    ")\n",
    "\n",
    "reasoning_message = ChatMessage(role=\"user\", content=reasoning_prompt)\n",
    "# messages.append(reasoning_message)\n",
    "\n",
    "# run the reasoning prompt\n",
    "response = await gpt4o.achat([reasoning_message])\n",
    "\n",
    "accumulated_solution.append(solution)"
   ]
  },
  {
   "cell_type": "code",
   "execution_count": 28,
   "metadata": {},
   "outputs": [
    {
     "data": {
      "text/markdown": [
       "Based on the provided output, the next steps should be planned to further elaborate on the Indo-Mediterranean diet. The initial function call has provided a detailed description of the diet and its benefits. However, if the goal is to obtain more specific nutritional information or further consult on the diet, we can proceed with another function call.\n",
       "\n",
       "Given the available functions, the next logical step would be to use the `consult_nutrition` function to get more detailed nutritional information about the Indo-Mediterranean diet.\n",
       "\n",
       "Abstract plan of reasoning for next step:\n",
       "To obtain detailed nutritional information about the Indo-Mediterranean diet, we should use the function that provides nutritional information based on a query. The query will be \"Indo-Mediterranean diet\".\n",
       "\n",
       "[FUNC consult_nutrition(\"Indo-Mediterranean diet\") = y1]"
      ],
      "text/plain": [
       "<IPython.core.display.Markdown object>"
      ]
     },
     "metadata": {},
     "output_type": "display_data"
    }
   ],
   "source": [
    "display(Markdown(response.message.content))"
   ]
  },
  {
   "cell_type": "code",
   "execution_count": null,
   "metadata": {},
   "outputs": [],
   "source": []
  },
  {
   "cell_type": "markdown",
   "metadata": {},
   "source": []
  },
  {
   "cell_type": "code",
   "execution_count": null,
   "metadata": {},
   "outputs": [],
   "source": []
  },
  {
   "cell_type": "code",
   "execution_count": null,
   "metadata": {},
   "outputs": [],
   "source": []
  },
  {
   "cell_type": "code",
   "execution_count": null,
   "metadata": {},
   "outputs": [],
   "source": []
  },
  {
   "cell_type": "code",
   "execution_count": null,
   "metadata": {},
   "outputs": [],
   "source": []
  }
 ],
 "metadata": {
  "kernelspec": {
   "display_name": "eda-llama-index-VIX4Qo5C-py3.11",
   "language": "python",
   "name": "python3"
  },
  "language_info": {
   "codemirror_mode": {
    "name": "ipython",
    "version": 3
   },
   "file_extension": ".py",
   "mimetype": "text/x-python",
   "name": "python",
   "nbconvert_exporter": "python",
   "pygments_lexer": "ipython3",
   "version": "3.11.3"
  },
  "orig_nbformat": 4,
  "vscode": {
   "interpreter": {
    "hash": "4c9fee63db1833b128f9e0fcc88438d876a8dd4a4e8fdc61bea76064c0a94131"
   }
  }
 },
 "nbformat": 4,
 "nbformat_minor": 2
}
